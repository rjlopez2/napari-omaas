{
 "cells": [
  {
   "cell_type": "markdown",
   "metadata": {},
   "source": [
    "# Post-processing Maps\n",
    "{{under_construction_warn}}\n",
    "\n",
    "todo list:\n",
    "- preview maps\n",
    "- Change color scale, clip max/min, etc\n",
    "- Filter/smooth maps\n",
    "- enlarge/reduce area of maps\n",
    "\n",
    "\n",
    "\n"
   ]
  },
  {
   "cell_type": "markdown",
   "metadata": {},
   "source": []
  }
 ],
 "metadata": {
  "language_info": {
   "name": "python"
  }
 },
 "nbformat": 4,
 "nbformat_minor": 2
}
