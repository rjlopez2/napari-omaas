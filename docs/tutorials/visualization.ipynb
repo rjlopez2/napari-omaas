{
 "cells": [
  {
   "cell_type": "markdown",
   "metadata": {},
   "source": [
    "```{currentmodule} optimap\n",
    "```"
   ]
  },
  {
   "cell_type": "markdown",
   "metadata": {},
   "source": [
    "# Visualization\n",
    "\n",
    "\n",
    "In this tutorial:\n",
    "\n",
    "- [x] open dataset\n",
    "- [x] rotate views\n",
    "- [x] plot profile\n",
    "- [x] crop views\n",
    "- [x] clip traces\n",
    "\n",
    "\n"
   ]
  },
  {
   "cell_type": "markdown",
   "metadata": {},
   "source": [
    "## Open dataset\n",
    "\n",
    "Simply drag and drop a `.sif` file or a directory containing a `spool file` dataset to the napari viewer.\n",
    "\n",
    "![plot viewer](/_static/drag_and_drop_file.gif)"
   ]
  },
  {
   "cell_type": "markdown",
   "metadata": {},
   "source": []
  },
  {
   "cell_type": "markdown",
   "metadata": {},
   "source": [
    "## Rotate and rearrange views\n",
    "\n",
    "You can rotate and rearrange the different views of the current image as shown bellow.\n",
    "\n",
    "![plot viewer](/_static/rearranging_views.gif)"
   ]
  },
  {
   "cell_type": "markdown",
   "metadata": {},
   "source": [
    "## Crop and rotate\n",
    "\n",
    "let's take the original image withouth rearranging. If you wish to take only one view for analysis (for example the anterior view), you can draw a ROI and crop that image off the rest of the view. You can also rotate the image 90 degrees to the right or the left in the same step.\n",
    "\n",
    "\n",
    "![plot viewer](/_static/crop_and_rotate.gif)"
   ]
  },
  {
   "cell_type": "markdown",
   "metadata": {},
   "source": [
    "## Plot profile\n",
    "\n",
    "To plot the average fluorescence values of a given ROI, create a shape first and hover around as shown in the next video.\n",
    "\n",
    "\n",
    "![plot viewer](/_static/roi_plot_1.gif)"
   ]
  },
  {
   "cell_type": "markdown",
   "metadata": {},
   "source": [
    "You can also plot multiples ROIs simultaneusly and see their fluorescence signal profiles."
   ]
  },
  {
   "cell_type": "markdown",
   "metadata": {},
   "source": [
    "## Clip trace\n",
    "\n",
    "If you wish to clip only a segment of the full dataset, e.g few seconds or few cardiac cycles, you can use the clipping functionality. \n",
    "\n",
    "\n",
    "![plot viewer](/_static/clip_trace.gif)"
   ]
  }
 ],
 "metadata": {
  "kernelspec": {
   "display_name": "roi_plugin_test",
   "language": "python",
   "name": "python3"
  },
  "language_info": {
   "codemirror_mode": {
    "name": "ipython",
    "version": 3
   },
   "file_extension": ".py",
   "mimetype": "text/x-python",
   "name": "python",
   "nbconvert_exporter": "python",
   "pygments_lexer": "ipython3",
   "version": "3.11.11"
  }
 },
 "nbformat": 4,
 "nbformat_minor": 2
}
