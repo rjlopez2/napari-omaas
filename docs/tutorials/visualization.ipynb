{
 "cells": [
  {
   "cell_type": "markdown",
   "metadata": {},
   "source": [
    "```{currentmodule} optimap\n",
    "```"
   ]
  },
  {
   "cell_type": "markdown",
   "metadata": {},
   "source": [
    "```{tip}\n",
    "Download this tutorial as a {download}`Jupyter notebook <converted/visualization.ipynb>`, or as a {download}`python script <converted/visualization.py>` with code cells. We highly recommend using [Visual Studio Code](https://code.visualstudio.com/) to execute this tutorial. Alternatively, you could run the Python script in a terminal with ``python visualization.py`` from the folder where the file is located.\n",
    "```"
   ]
  },
  {
   "cell_type": "markdown",
   "metadata": {},
   "source": [
    "# Visualization\n",
    "\n",
    "{{under_construction_warn}}\n",
    "\n",
    "todo list:\n",
    "- open dataset\n",
    "- rotate views\n",
    "- plot profile\n",
    "- crop views\n",
    "- clip traces\n",
    "\n",
    "\n"
   ]
  }
 ],
 "metadata": {
  "language_info": {
   "name": "python"
  }
 },
 "nbformat": 4,
 "nbformat_minor": 2
}
