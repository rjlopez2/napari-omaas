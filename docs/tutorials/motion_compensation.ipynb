{
 "cells": [
  {
   "cell_type": "markdown",
   "metadata": {},
   "source": [
    "# Motion compensation\n",
    "\n",
    "\n",
    "in this tutorial:\n",
    "\n",
    "- [x] apply motion correction on images"
   ]
  },
  {
   "cell_type": "markdown",
   "metadata": {},
   "source": [
    "For this example we will use a cropped single view image from the full panoramic view to perform numerical stabilization of motion artifact on the image.\n",
    "\n",
    "Please note how the profile of the image at different regions of the heart highlight the impact of the motion on the quality of the fluorescence signal.\n",
    "\n",
    "A number of parameters can be adjusted to improve and fine tune the motion stabilization. For additional details on what parameter to use please refer to a more comprehensive explanation on [optimap](https://cardiacvision.github.io/optimap/main/index.html) specifically on the [motion stabilization tutorial](https://cardiacvision.github.io/optimap/main/tutorials/motion_compensation/) from where these methods have been borrowed. \n",
    "\n"
   ]
  },
  {
   "cell_type": "markdown",
   "metadata": {},
   "source": [
    "![plot viewer](/_static/compute_motion_corrrection.gif)"
   ]
  },
  {
   "cell_type": "markdown",
   "metadata": {},
   "source": [
    "Let's visualize the results bellow and compare the motion stabilized image with the original one."
   ]
  },
  {
   "cell_type": "markdown",
   "metadata": {},
   "source": [
    "![plot viewer](/_static/comparison_motion_correction.gif)"
   ]
  },
  {
   "cell_type": "markdown",
   "metadata": {},
   "source": []
  }
 ],
 "metadata": {
  "language_info": {
   "name": "python"
  }
 },
 "nbformat": 4,
 "nbformat_minor": 2
}
