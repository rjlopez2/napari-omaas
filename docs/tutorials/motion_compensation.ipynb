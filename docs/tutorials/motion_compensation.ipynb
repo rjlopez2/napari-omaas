{
 "cells": [
  {
   "cell_type": "markdown",
   "metadata": {},
   "source": [
    "```{currentmodule} optimap\n",
    "```"
   ]
  },
  {
   "cell_type": "markdown",
   "metadata": {},
   "source": [
    "```{tip}\n",
    "Download this tutorial as a {download}`Jupyter notebook <converted/motion_compensation.ipynb>`, or as a {download}`python script <converted/motion_compensation.py>` with code cells. We highly recommend using [Visual Studio Code](https://code.visualstudio.com/) to execute this tutorial. Alternatively, you could run the Python script in a terminal with ``python motion_compensation.py`` from the folder where the file is located.\n",
    "```"
   ]
  },
  {
   "cell_type": "markdown",
   "metadata": {},
   "source": [
    "# Motion compensation\n",
    "\n",
    "{{under_construction_warn}}\n",
    "\n",
    "todo list:\n",
    "- apply motion correction on images"
   ]
  }
 ],
 "metadata": {
  "language_info": {
   "name": "python"
  }
 },
 "nbformat": 4,
 "nbformat_minor": 2
}
