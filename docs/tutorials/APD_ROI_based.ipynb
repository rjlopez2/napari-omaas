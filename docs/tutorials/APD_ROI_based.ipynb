{
 "cells": [
  {
   "cell_type": "markdown",
   "metadata": {},
   "source": [
    "# ROI-base APD estimation\n",
    "\n",
    "\n",
    "in this tutorial:\n",
    "\n",
    "- Compute APDs using ROIs\n",
    "\n",
    "\n",
    "\n"
   ]
  },
  {
   "cell_type": "markdown",
   "metadata": {},
   "source": [
    "## Compute APD from profiles"
   ]
  },
  {
   "cell_type": "markdown",
   "metadata": {},
   "source": [
    "We will start with an image that we have already preprocessed (invert, normalize, clipped to 4 beats, filtered and segmented)."
   ]
  },
  {
   "cell_type": "markdown",
   "metadata": {},
   "source": [
    "![plot viewer](/_static/APD_pre-processed_image.gif)"
   ]
  },
  {
   "cell_type": "markdown",
   "metadata": {},
   "source": [
    "APD analysis tab, you can calculate the APD on profile generated with ROIs. You can change the AP peak detection threshold, APD percentage and the method for the APD estimation.\n",
    "The results from the current analysis are displayed in the table bellow.\n",
    "\n",
    "You can change the ROI at a different position and recalculate the APD values. You can also add multiples ROIs and compute all the APs at different regions of the heart simultaneously.\n",
    "\n",
    "The resulting table can be copied to clipboard or can be exported as a .csv file or .xlsx format using the Export results tool."
   ]
  },
  {
   "cell_type": "markdown",
   "metadata": {},
   "source": [
    "![plot viewer](/_static/APD_roi_base_analysis.gif)"
   ]
  },
  {
   "cell_type": "markdown",
   "metadata": {},
   "source": []
  }
 ],
 "metadata": {
  "language_info": {
   "name": "python"
  }
 },
 "nbformat": 4,
 "nbformat_minor": 2
}
