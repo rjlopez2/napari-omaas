{
 "cells": [
  {
   "cell_type": "markdown",
   "metadata": {},
   "source": [
    "```{currentmodule} optimap\n",
    "```"
   ]
  },
  {
   "cell_type": "markdown",
   "metadata": {},
   "source": [
    "```{tip}\n",
    "Download this tutorial as a {download}`Jupyter notebook <converted/filter.ipynb>`, or as a {download}`python script <converted/filter.py>` with code cells. We highly recommend using [Visual Studio Code](https://code.visualstudio.com/) to execute this tutorial. Alternatively, you could run the Python script in a terminal with ``python filter.py`` from the folder where the file is located.\n",
    "```"
   ]
  },
  {
   "cell_type": "markdown",
   "metadata": {},
   "source": [
    "# Filters \n",
    "\n",
    "{{under_construction_warn}}\n",
    "\n",
    "todo list:\n",
    "- using temporal filter(s)\n",
    "- using spatial filter(s)\n"
   ]
  }
 ],
 "metadata": {
  "language_info": {
   "name": "python"
  }
 },
 "nbformat": 4,
 "nbformat_minor": 2
}
