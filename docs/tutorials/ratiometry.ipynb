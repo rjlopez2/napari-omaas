{
 "cells": [
  {
   "cell_type": "markdown",
   "metadata": {},
   "source": [
    "```{currentmodule} optimap\n",
    "```"
   ]
  },
  {
   "cell_type": "markdown",
   "metadata": {},
   "source": [
    "# Ratiometry\n",
    "\n",
    "in this tutorial:\n",
    "- open a sample dataset with dual illumination\n",
    "- split channels\n",
    "- compute ratio of channels"
   ]
  },
  {
   "cell_type": "markdown",
   "metadata": {},
   "source": [
    "In order to minimize some signal artifacts independent of the fluorescent signal (such a little motion for example), we can make recording with dual excitation light and the resulting fluorescence emission be collected with a single detector in an alternated fashion (one input image from a illumination source and the next for the second illumination source and so on). This mode of recording is called dual illumination/single emission. "
   ]
  },
  {
   "cell_type": "markdown",
   "metadata": {},
   "source": [
    "## Open Sample file with dual illumination"
   ]
  },
  {
   "cell_type": "markdown",
   "metadata": {
    "vscode": {
     "languageId": "plaintext"
    }
   },
   "source": [
    "Let's try to open a sample file that was recorded using dual illumination and inspect the profile. \n",
    "\n",
    "Go to `File>Open Sample>napari-OMAAS>Example spool Dataset (Dual illumination RED/BLUE)`"
   ]
  },
  {
   "cell_type": "markdown",
   "metadata": {},
   "source": [
    "![plot viewer](/_static/display_dual_illumination_sample.gif)"
   ]
  },
  {
   "cell_type": "markdown",
   "metadata": {},
   "source": [
    "Noted by looking at the profile and at the playback of the sequence that the fluorescence signal from from the red illumiantion and from the blue illumination were recorded at an alternated fashion."
   ]
  },
  {
   "cell_type": "markdown",
   "metadata": {},
   "source": [
    "## Split the channels"
   ]
  },
  {
   "cell_type": "markdown",
   "metadata": {},
   "source": [
    "![plot viewer](/_static/split_channels.gif)"
   ]
  },
  {
   "cell_type": "markdown",
   "metadata": {},
   "source": [
    "From the profile plots of the two resulting images we note that the channel 0 represents the red illumination (negative signal) and channel 1 contain the signal from blue illumination (positive signal). The operation append the channel id (Ch0/Ch1) to the resulting image name."
   ]
  },
  {
   "cell_type": "markdown",
   "metadata": {},
   "source": [
    "## Compute the ratio"
   ]
  },
  {
   "cell_type": "markdown",
   "metadata": {},
   "source": [
    "We select the two images from which we want to compute the ratio. Note that in this example the first image contain the channel with negative fluorescence signal peaks so we can optionally invert the ratio to have a resulting image with a positive fluorescence peak."
   ]
  },
  {
   "cell_type": "markdown",
   "metadata": {},
   "source": [
    "![plot viewer](/_static/compute_ratio.gif)"
   ]
  },
  {
   "cell_type": "markdown",
   "metadata": {},
   "source": [
    "In order to better observe the fluorescence change during the AP and the improved quality of the signal after computing the ratio of the two channels, let's visualize now the resulting image after normalization."
   ]
  },
  {
   "cell_type": "markdown",
   "metadata": {},
   "source": [
    "![plot viewer](/_static/normalized_ratio_playback.gif)"
   ]
  },
  {
   "cell_type": "markdown",
   "metadata": {},
   "source": [
    "Further processing of the image can be performed as indicated in the [Filter tutorial](filter.ipynb) tutorial."
   ]
  },
  {
   "cell_type": "markdown",
   "metadata": {},
   "source": []
  }
 ],
 "metadata": {
  "language_info": {
   "name": "python"
  }
 },
 "nbformat": 4,
 "nbformat_minor": 2
}
