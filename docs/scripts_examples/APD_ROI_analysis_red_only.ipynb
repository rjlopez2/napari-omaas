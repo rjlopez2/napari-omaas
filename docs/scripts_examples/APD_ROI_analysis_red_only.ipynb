{
 "cells": [
  {
   "cell_type": "markdown",
   "metadata": {},
   "source": [
    "# Load libraries"
   ]
  },
  {
   "cell_type": "code",
   "execution_count": 2,
   "metadata": {},
   "outputs": [],
   "source": [
    "import napari\n",
    "import napari_omaas\n",
    "from napari_omaas import utils\n",
    "import numpy as np\n",
    "from napari_omaas.custom_exceptions import CustomException\n",
    "import sys\n",
    "import os\n",
    "from napari.layers import Shapes, Image\n",
    "from time import sleep\n",
    "import pandas as pd"
   ]
  },
  {
   "cell_type": "code",
   "execution_count": 3,
   "metadata": {},
   "outputs": [
    {
     "name": "stderr",
     "output_type": "stream",
     "text": [
      "d:\\Ruben\\envs\\omaas_base\\Lib\\site-packages\\napari_matplotlib\\base.py:46: FutureWarning: The `as_dict` kwarg has been deprecated since Napari 0.5.0 and will be removed in future version. You can use `get_theme(...).to_rgb_dict()`\n",
      "  get_theme(napari_viewer.theme, as_dict=False)\n",
      "d:\\Ruben\\envs\\omaas_base\\Lib\\site-packages\\napari_matplotlib\\base.py:101: FutureWarning: The `as_dict` kwarg has been deprecated since Napari 0.5.0 and will be removed in future version. You can use `get_theme(...).to_rgb_dict()`\n",
      "  theme = napari.utils.theme.get_theme(self.viewer.theme, as_dict=False)\n",
      "d:\\Ruben\\envs\\omaas_base\\Lib\\site-packages\\napari_matplotlib\\base.py:46: FutureWarning: The `as_dict` kwarg has been deprecated since Napari 0.5.0 and will be removed in future version. You can use `get_theme(...).to_rgb_dict()`\n",
      "  get_theme(napari_viewer.theme, as_dict=False)\n",
      "d:\\Ruben\\envs\\omaas_base\\Lib\\site-packages\\napari_matplotlib\\base.py:101: FutureWarning: The `as_dict` kwarg has been deprecated since Napari 0.5.0 and will be removed in future version. You can use `get_theme(...).to_rgb_dict()`\n",
      "  theme = napari.utils.theme.get_theme(self.viewer.theme, as_dict=False)\n",
      "d:\\Ruben\\envs\\omaas_base\\Lib\\site-packages\\napari_matplotlib\\base.py:46: FutureWarning: The `as_dict` kwarg has been deprecated since Napari 0.5.0 and will be removed in future version. You can use `get_theme(...).to_rgb_dict()`\n",
      "  get_theme(napari_viewer.theme, as_dict=False)\n",
      "d:\\Ruben\\envs\\omaas_base\\Lib\\site-packages\\napari_matplotlib\\base.py:101: FutureWarning: The `as_dict` kwarg has been deprecated since Napari 0.5.0 and will be removed in future version. You can use `get_theme(...).to_rgb_dict()`\n",
      "  theme = napari.utils.theme.get_theme(self.viewer.theme, as_dict=False)\n",
      "d:\\Ruben\\envs\\omaas_base\\Lib\\site-packages\\napari_matplotlib\\base.py:46: FutureWarning: The `as_dict` kwarg has been deprecated since Napari 0.5.0 and will be removed in future version. You can use `get_theme(...).to_rgb_dict()`\n",
      "  get_theme(napari_viewer.theme, as_dict=False)\n",
      "d:\\Ruben\\envs\\omaas_base\\Lib\\site-packages\\napari_matplotlib\\base.py:101: FutureWarning: The `as_dict` kwarg has been deprecated since Napari 0.5.0 and will be removed in future version. You can use `get_theme(...).to_rgb_dict()`\n",
      "  theme = napari.utils.theme.get_theme(self.viewer.theme, as_dict=False)\n",
      "d:\\Ruben\\envs\\omaas_base\\Lib\\site-packages\\napari_matplotlib\\base.py:46: FutureWarning: The `as_dict` kwarg has been deprecated since Napari 0.5.0 and will be removed in future version. You can use `get_theme(...).to_rgb_dict()`\n",
      "  get_theme(napari_viewer.theme, as_dict=False)\n",
      "d:\\Ruben\\envs\\omaas_base\\Lib\\site-packages\\napari_matplotlib\\base.py:101: FutureWarning: The `as_dict` kwarg has been deprecated since Napari 0.5.0 and will be removed in future version. You can use `get_theme(...).to_rgb_dict()`\n",
      "  theme = napari.utils.theme.get_theme(self.viewer.theme, as_dict=False)\n"
     ]
    },
    {
     "data": {
      "text/plain": [
       "<napari._qt.widgets.qt_viewer_dock_widget.QtViewerDockWidget at 0x2333bbec8b0>"
      ]
     },
     "execution_count": 3,
     "metadata": {},
     "output_type": "execute_result"
    }
   ],
   "source": [
    "viewer = napari.Viewer()\n",
    "o = napari_omaas.OMAAS(viewer)\n",
    "viewer.window.add_dock_widget(o, area='right')"
   ]
  },
  {
   "cell_type": "code",
   "execution_count": 4,
   "metadata": {},
   "outputs": [],
   "source": [
    "# my_file = r\"M:\\OM_data_Bern\\raw_data\\2024\\20242507\\Videosdata\\20242507_12h-47m-42\" #carbachol 2.5Hz red 25.07.24 #6994 WT *done*\n",
    "# my_file = r\"M:\\OM_data_Bern\\raw_data\\2024\\20242507\\Videosdata\\20242507_11h-51m-04\" #control 4Hz red 25.07.24 #6994 WT *done*\n",
    "# my_file = r\"M:\\OM_data_Bern\\raw_data\\2024\\20243007\\Videosdata\\20243007_13h-02m-05\" #carbachol 2.5Hz red 30.07.24 #6999 WT *done*\n",
    "# my_file = r\"M:\\OM_data_Bern\\raw_data\\2024\\20243007\\Videosdata\\20243007_12h-36m-16\" #control 4Hz red 30.07.24 #6999 WT *done*\n",
    "my_file = r\"M:\\OM_data_Bern\\raw_data\\2024\\20242509\\Videosdata\\Animal_7006\\20242509_11h-40m-42\" #carbachol 2.5Hz red 25.09.24 #7006 WT *done*\n",
    "# my_file = r\"M:\\OM_data_Bern\\raw_data\\2024\\20242509\\Videosdata\\Animal_7006\\20242509_11h-02m-07\" #control 4Hz red 25.09.24 #7006 WT *done*\n",
    "# my_file = r\"M:\\OM_data_Bern\\raw_data\\2024\\20240711\\WT 7030\\Videosdata\\20240711_14h-45m-09\" #carbachol 2.5Hz red 07.11.2024 #7030 WT *done*\n",
    "# my_file = r\"M:\\OM_data_Bern\\raw_data\\2024\\20240711\\WT 7030\\Videosdata\\20240711_14h-16m-36\" #control 4Hz red 07.11.2024 #7030 WT *done*\n",
    "# my_file = r\"M:\\OM_data_Bern\\raw_data\\2024\\20240708\\Videosdata\\20240708_12h-00m-09\" #carbachol 2.5Hz red 07.08.24 #7023 UT-SQT1 *done*\n",
    "# my_file = r\"M:\\OM_data_Bern\\raw_data\\2024\\20240708\\Videosdata\\20240708_11h-39m-34\" #control 4Hz red 07.08.24 #7023 UT-SQT1 *done*\n",
    "# my_file = r\"M:\\OM_data_Bern\\raw_data\\2024\\20242908\\Videosdata\\20242908_12h-18m-25\" #carbachol 2.5Hz red 29.08.24 #7024 sham-SQT1 *done*\n",
    "# my_file = r\"M:\\OM_data_Bern\\raw_data\\2024\\20242908\\Videosdata\\20242908_11h-58m-39\" #control 4Hz red 29.08.24 #7024 sham-SQT1 *done*\n",
    "# my_file = r\"M:\\OM_data_Bern\\raw_data\\2024\\20241810\\Videosdata\\20241810_14h-19m-43\" #carbachol 2.5Hz red 18.10.24 #6325 UT-SQT1 *done*\n",
    "# my_file = r\"M:\\OM_data_Bern\\raw_data\\2024\\20241810\\Videosdata\\20241810_13h-48m-11\" #control 4Hz red 18.10.24 #6325 UT-SQT1 *done*\n",
    "# my_file = r\"M:\\OM_data_Bern\\raw_data\\2024\\20240711\\UT-SQT1 7028\\Videosdata\\20240711_11h-56m-36\" #carbachol 2.5Hz red 7.11.24 #7028 UT-SQT1 *done*\n",
    "# my_file = r\"M:\\OM_data_Bern\\raw_data\\2024\\20240711\\UT-SQT1 7028\\Videosdata\\20240711_11h-44m-04\" #control 4Hz red 7.11.24 #7028 UT-SQT1 *done*\n",
    "# my_file = r\"M:\\OM_data_Bern\\raw_data\\2024\\20240909\\Videosdata\\20240909_11h-57m-45\" #carbachol 2.5Hz red 09.09.24 #7004 SupRep-SQT1 *done*\n",
    "# my_file = r\"M:\\OM_data_Bern\\raw_data\\2024\\20240909\\Videosdata\\20240909_11h-43m-21\" #control 4Hz red 09.09.24 #7004 SupRep-SQT1 *done*\n",
    "# my_file = r\"M:\\OM_data_Bern\\raw_data\\2024\\20240910\\Videosdata\\20240910_11h-41m-57\" #carbachol 2.5z red 09.10.24 #7009 SupRep-SQT1 *done*\n",
    "# my_file = r\"M:\\OM_data_Bern\\raw_data\\2024\\20240910\\Videosdata\\20240910_11h-19m-29\" #control 4Hz red 09.10.24 #7009 SupRep-SQT1 *done*\n",
    "# my_file = r\"M:\\OM_data_Bern\\raw_data\\2024\\20241110\\Videosdata\\20241110_12h-20m-25\" #carbachol 2.5Hz red 11.10.24 #7026 SupRep-SQT1 *done*\n",
    "# my_file = r\"M:\\OM_data_Bern\\raw_data\\2024\\20241110\\Videosdata\\20241110_12h-06m-25\" #control 4Hz red 11.10.24 #7026 SupRep-SQT1 *done*\n"
   ]
  },
  {
   "cell_type": "markdown",
   "metadata": {},
   "source": [
    "# define the experiment conditions"
   ]
  },
  {
   "cell_type": "code",
   "execution_count": 5,
   "metadata": {},
   "outputs": [],
   "source": [
    "os.path.basename(my_file)[:8]\n",
    "\n",
    "\n",
    "# freq_estim_condition = \"2.5Hz\"\n",
    "freq_estim_condition = \"4Hz\"\n",
    "\n",
    "condition = \"control\"\n",
    "# condition = \"carbachol\"\n",
    "\n",
    "# illumination_type = \"dual_illumination\"\n",
    "illumination_type = \"red_only\"\n",
    "\n",
    "# genotype = \"WT\"\n",
    "# genotype = \"UT-SQT1\"\n",
    "genotype = \"SupRep-SQT1\"\n",
    "# genotype = \"Sham-SQT1\"\n",
    "\n",
    "\n",
    "animal_id = str(7026)"
   ]
  },
  {
   "cell_type": "code",
   "execution_count": 5,
   "metadata": {},
   "outputs": [
    {
     "name": "stderr",
     "output_type": "stream",
     "text": [
      "WARNING: DirectWrite: CreateFontFaceFromHDC() failed (Indicates an error in an input file such as a font file.) for QFontDef(Family=\"\", pointsize=12, pixelsize=16, styleHint=5, weight=50, stretch=100, hintingPreference=0) LOGFONT(\"MS Sans Serif\", lfWidth=0, lfHeight=-16) dpi=96\n"
     ]
    },
    {
     "name": "stdout",
     "output_type": "stream",
     "text": [
      "***** Aplying 'Auto' segmentation with method: 'threshold_triangle' to image: '20242509_11h-40m-42' *****\n"
     ]
    },
    {
     "name": "stderr",
     "output_type": "stream",
     "text": [
      "WARNING: DirectWrite: CreateFontFaceFromHDC() failed (Indicates an error in an input file such as a font file.) for QFontDef(Family=\"\", pointsize=12, pixelsize=16, styleHint=5, weight=50, stretch=100, hintingPreference=0) LOGFONT(\"MS Sans Serif\", lfWidth=0, lfHeight=-16) dpi=96\n"
     ]
    },
    {
     "name": "stdout",
     "output_type": "stream",
     "text": [
      "cropping\n"
     ]
    }
   ],
   "source": [
    "# my_file = r\"\\\\PC160\\GroupOdening\\OM_data_Bern\\raw_data\\2024\\20243007\\Videosdata\\20243007_13h-02m-05\"\n",
    "\n",
    "try:\n",
    "    viewer.open(path=my_file, plugin= \"napari-omaas\", colormap = \"grey\")\n",
    "except Exception as e:\n",
    "    raise CustomException(e, sys)"
   ]
  },
  {
   "cell_type": "code",
   "execution_count": 6,
   "metadata": {},
   "outputs": [
    {
     "name": "stdout",
     "output_type": "stream",
     "text": [
      "Creating Folder: \n",
      "'M:\\PhD students\\Saranda Nimani\\Optical Mapping\\SQT-SupRep\\ROI_analysis\\SupRep-SQT1\\4Hz\\control\\red_only\\7026\\20241110_12h-06m-25'\n",
      "*Done*.\n"
     ]
    }
   ],
   "source": [
    " \n",
    "# here we create the saving results folder\n",
    "results_folder_name = fr\"M:\\PhD students\\Saranda Nimani\\Optical Mapping\\SQT-SupRep\\ROI_analysis\\{genotype}\\{freq_estim_condition}\\{condition}\\{illumination_type}\\{animal_id}\\{os.path.basename(my_file)}\"\n",
    "# results_folder_name = os.path.basename(my_file)[:8]\n",
    "# results_folder_path = os.path.normpath(fr\"D:\\Sara\\results_{results_folder_name}\\{freq_estim_condition}\\{condition}\\{illumination_type}\")\n",
    "# results_folder_path = os.path.normpath(fr\"{results_folder_name}\\{freq_estim_condition}\\{condition}\\{illumination_type}\")\n",
    "results_folder_path = os.path.normpath(results_folder_name)\n",
    "if not os.path.exists(results_folder_name):\n",
    "    print(f\"Creating Folder: \\n'{results_folder_path}'\\n*Done*.\")\n",
    "    os.makedirs(results_folder_path)\n",
    "else:\n",
    "    print(f\"Folder: \\n'{results_folder_path}'\\nAlready exists\")"
   ]
  },
  {
   "cell_type": "markdown",
   "metadata": {},
   "source": [
    "# Open File"
   ]
  },
  {
   "cell_type": "code",
   "execution_count": 7,
   "metadata": {},
   "outputs": [],
   "source": [
    "try:\n",
    "    viewer.open(path=my_file, plugin= \"napari-omaas\")\n",
    "except Exception as e:\n",
    "    raise CustomException(e, sys)"
   ]
  },
  {
   "cell_type": "markdown",
   "metadata": {},
   "source": [
    "# plot profile"
   ]
  },
  {
   "cell_type": "code",
   "execution_count": 8,
   "metadata": {},
   "outputs": [
    {
     "name": "stderr",
     "output_type": "stream",
     "text": [
      "d:\\Sara\\mamba_envs\\envs\\omaas_base\\Lib\\site-packages\\ipykernel\\eventloops.py:145: UserWarning: constrained_layout not applied because axes sizes collapsed to zero.  Try making figure larger or Axes decorations smaller.\n",
      "  el.exec() if hasattr(el, \"exec\") else el.exec_()\n"
     ]
    },
    {
     "name": "stdout",
     "output_type": "stream",
     "text": [
      "***** Clipping from time index: [46:1352] to image: '20241110_12h-06m-25'. *****\n"
     ]
    }
   ],
   "source": [
    "\n",
    "my_shape =[np.array([[128.03402574, 142.83315215],\n",
    "        [128.03402574, 187.82476519],\n",
    "        [178.56426079, 187.82476519],\n",
    "        [178.56426079, 142.83315215]])]\n",
    "\n",
    "\n",
    "viewer.add_shapes(my_shape)\n",
    "\n",
    "o.plot_last_generated_img()"
   ]
  },
  {
   "cell_type": "markdown",
   "metadata": {},
   "source": [
    "# clip trace to 10 APs\n",
    "\n",
    "(Do manually)"
   ]
  },
  {
   "cell_type": "code",
   "execution_count": null,
   "metadata": {},
   "outputs": [],
   "source": [
    "# o.double_slider_clip_trace.setValue(clipping_values)\n",
    "# o.double_slider_clip_trace.value()"
   ]
  },
  {
   "cell_type": "code",
   "execution_count": null,
   "metadata": {},
   "outputs": [],
   "source": [
    "\n",
    "# o.plot_last_generated_img()\n",
    "# # clipping_values = (2018.21, 6107.96) # carbachol 2.5hz\n",
    "# # clipping_values = (4782.99, 7352.00) # carbacol 4hz\n",
    "\n",
    "# # clipping_values = (3303.2163185840714, 5852.111315136477) #control 4Hz red 25.07.24 #6994 WT\n",
    "# clipping_values = (1652.8864019851117, 5777.656972704715) #carbachol 2.5Hz red 25.07.24 #6994 WT\n",
    "\n",
    "# # clipping_values = (1627.6070099255585, 5724.686724565757) #control 4Hz red 07.08.24 #7023 UT-SQT1\n",
    "# # clipping_values = (1598.8984312946784, 5736.8715250198575) #carbachol 2.5Hz red 07.08.24 #7023 UT-SQT1\n",
    "\n",
    "# o.is_range_clicked_checkbox.setChecked(True)\n",
    "# o.double_slider_clip_trace.setValue(clipping_values)\n",
    "# o.clip_trace_btn.click() \n",
    "\n",
    "# # del viewer.layers[0]\n",
    "\n"
   ]
  },
  {
   "cell_type": "markdown",
   "metadata": {},
   "source": [
    "# apply motion correction"
   ]
  },
  {
   "cell_type": "code",
   "execution_count": 9,
   "metadata": {},
   "outputs": [
    {
     "name": "stdout",
     "output_type": "stream",
     "text": [
      "running motion stabilization\n"
     ]
    },
    {
     "name": "stderr",
     "output_type": "stream",
     "text": [
      "calculating flows (GPU): 100%|██████████| 1306/1306 [00:06<00:00, 202.17it/s]\n"
     ]
    }
   ],
   "source": [
    "\n",
    "curr_imag = viewer.layers[-1]\n",
    "viewer.layers.selection.active = curr_imag\n",
    "\n",
    "contrast_kernel = 3\n",
    "ref_frame = 0\n",
    "o.pre_smooth_temp.setValue(1)\n",
    "o.pre_smooth_spat.setValue(1)\n",
    "o.c_kernels.setValue(contrast_kernel)\n",
    "o.ref_frame_val.setText(str(ref_frame))\n",
    "\n",
    "o.apply_optimap_mot_corr_btn.click()\n"
   ]
  },
  {
   "cell_type": "code",
   "execution_count": null,
   "metadata": {},
   "outputs": [],
   "source": [
    "# del viewer.layers[0]\n",
    "# del viewer.layers[0]\n",
    "# o.plot_last_generated_img()"
   ]
  },
  {
   "cell_type": "markdown",
   "metadata": {},
   "source": [
    "# inv and normalize"
   ]
  },
  {
   "cell_type": "code",
   "execution_count": 10,
   "metadata": {},
   "outputs": [
    {
     "name": "stdout",
     "output_type": "stream",
     "text": [
      "***** Applying 'invert_signal' to image: '20241110_12h-06m-25_Clip_MotStab' ***** \n",
      "***** Applying normalization:'Slide window' to image: '20241110_12h-06m-25_Clip_MotStab_Inv' ***** \n"
     ]
    }
   ],
   "source": [
    "# Using slide window method for normalization to detrend the signal\n",
    "# o.data_normalization_options.setCurrentText(\"Local max\") # Note: Use when stable traces or when \"Slide window\" is creating artifacts\n",
    "o.data_normalization_options.setCurrentText(\"Slide window\")\n",
    "o.slide_wind_n.setValue(100)\n",
    "o.inv_and_norm_data_btn.click()                 "
   ]
  },
  {
   "cell_type": "code",
   "execution_count": null,
   "metadata": {},
   "outputs": [],
   "source": [
    "# del viewer.layers[0]\n",
    "# del viewer.layers[0]"
   ]
  },
  {
   "cell_type": "markdown",
   "metadata": {},
   "source": [
    "# Apply spatial and temporal filters"
   ]
  },
  {
   "cell_type": "code",
   "execution_count": 11,
   "metadata": {},
   "outputs": [
    {
     "name": "stdout",
     "output_type": "stream",
     "text": [
      "***** Applying 'Median' filter to image: '20241110_12h-06m-25_Clip_MotStab_Inv_NormSliWind100' ***** \n"
     ]
    }
   ],
   "source": [
    "\n",
    "\n",
    "o.spat_filter_types.setCurrentText(\"Median\")\n",
    "o.apply_spat_filt_btn.click()\n",
    "# del viewer.layers[1]\n",
    "\n"
   ]
  },
  {
   "cell_type": "code",
   "execution_count": 12,
   "metadata": {},
   "outputs": [
    {
     "name": "stdout",
     "output_type": "stream",
     "text": [
      "***** Applying 'Butterworth' filter to image: '20241110_12h-06m-25_Clip_MotStab_Inv_NormSliWind100_SpatFiltMedi' ***** \n"
     ]
    }
   ],
   "source": [
    "o.apply_temp_filt_btn.click()\n",
    "# del viewer.layers[1]\n",
    "\n",
    "# o.plot_last_generated_img()"
   ]
  },
  {
   "cell_type": "code",
   "execution_count": null,
   "metadata": {},
   "outputs": [],
   "source": [
    "# del viewer.layers[0]\n",
    "# del viewer.layers[0]"
   ]
  },
  {
   "cell_type": "code",
   "execution_count": null,
   "metadata": {},
   "outputs": [],
   "source": []
  },
  {
   "cell_type": "markdown",
   "metadata": {},
   "source": [
    "# Load ROIs manually"
   ]
  },
  {
   "cell_type": "markdown",
   "metadata": {},
   "source": [
    "# Compute APD for each ROI set"
   ]
  },
  {
   "cell_type": "code",
   "execution_count": 13,
   "metadata": {},
   "outputs": [],
   "source": [
    "def select_item_by_name(item_name):\n",
    "    \n",
    "    # Iterate through all items in the QListWidget\n",
    "    for index in range(o.listShapeswidget.count()):\n",
    "        item = o.listShapeswidget.item(index)\n",
    "        # Check if the item's text matches the specified name\n",
    "        if item.text() == item_name:\n",
    "            # Set the item as selected\n",
    "            o.listShapeswidget.setCurrentItem(item)\n",
    "            item.setSelected(True)\n",
    "            return  # Stop after finding and selecting the first matching item\n"
   ]
  },
  {
   "cell_type": "code",
   "execution_count": 14,
   "metadata": {},
   "outputs": [
    {
     "name": "stdout",
     "output_type": "stream",
     "text": [
      "APD computed on image '20241110_12h-06m-25_Clip_MotStab_Inv_NormSliWind100_SpatFiltMedi_TempFiltButt' with roi: 0\n"
     ]
    },
    {
     "name": "stderr",
     "output_type": "stream",
     "text": [
      "d:\\Sara\\mamba_envs\\envs\\omaas_base\\Lib\\site-packages\\napari_omaas\\_widget.py:2435: UserWarning: Create a trace first by clicking on 'Display Profile'\n",
      "  return warn(\"Create a trace first by clicking on 'Display Profile'\")\n",
      "d:\\Sara\\mamba_envs\\envs\\omaas_base\\Lib\\site-packages\\napari_omaas\\_widget.py:2657: UserWarning: File 'LV Apex Ant ROI 25.09.csv' exported to: M:\\PhD students\\Saranda Nimani\\Optical Mapping\\SQT-SupRep\\ROI_analysis\\SupRep-SQT1\\4Hz\\control\\red_only\\7026\\20241110_12h-06m-25\\LV Apex Ant ROI 25.09.csv.\n",
      "  warn(f\"File '{filename}{file_format}' exported to: {file_path}.\")\n"
     ]
    },
    {
     "name": "stdout",
     "output_type": "stream",
     "text": [
      "APD computed on image '20241110_12h-06m-25_Clip_MotStab_Inv_NormSliWind100_SpatFiltMedi_TempFiltButt' with roi: 0\n"
     ]
    },
    {
     "name": "stderr",
     "output_type": "stream",
     "text": [
      "d:\\Sara\\mamba_envs\\envs\\omaas_base\\Lib\\site-packages\\napari_omaas\\_widget.py:2435: UserWarning: Create a trace first by clicking on 'Display Profile'\n",
      "  return warn(\"Create a trace first by clicking on 'Display Profile'\")\n",
      "d:\\Sara\\mamba_envs\\envs\\omaas_base\\Lib\\site-packages\\napari_omaas\\_widget.py:2657: UserWarning: File 'LV Apex Lat ROI 25.09.csv' exported to: M:\\PhD students\\Saranda Nimani\\Optical Mapping\\SQT-SupRep\\ROI_analysis\\SupRep-SQT1\\4Hz\\control\\red_only\\7026\\20241110_12h-06m-25\\LV Apex Lat ROI 25.09.csv.\n",
      "  warn(f\"File '{filename}{file_format}' exported to: {file_path}.\")\n"
     ]
    },
    {
     "name": "stdout",
     "output_type": "stream",
     "text": [
      "APD computed on image '20241110_12h-06m-25_Clip_MotStab_Inv_NormSliWind100_SpatFiltMedi_TempFiltButt' with roi: 0\n"
     ]
    },
    {
     "name": "stderr",
     "output_type": "stream",
     "text": [
      "d:\\Sara\\mamba_envs\\envs\\omaas_base\\Lib\\site-packages\\napari_omaas\\_widget.py:2435: UserWarning: Create a trace first by clicking on 'Display Profile'\n",
      "  return warn(\"Create a trace first by clicking on 'Display Profile'\")\n",
      "d:\\Sara\\mamba_envs\\envs\\omaas_base\\Lib\\site-packages\\napari_omaas\\_widget.py:2657: UserWarning: File 'LV Apex Post ROI 25.09.csv' exported to: M:\\PhD students\\Saranda Nimani\\Optical Mapping\\SQT-SupRep\\ROI_analysis\\SupRep-SQT1\\4Hz\\control\\red_only\\7026\\20241110_12h-06m-25\\LV Apex Post ROI 25.09.csv.\n",
      "  warn(f\"File '{filename}{file_format}' exported to: {file_path}.\")\n"
     ]
    },
    {
     "name": "stdout",
     "output_type": "stream",
     "text": [
      "APD computed on image '20241110_12h-06m-25_Clip_MotStab_Inv_NormSliWind100_SpatFiltMedi_TempFiltButt' with roi: 0\n"
     ]
    },
    {
     "name": "stderr",
     "output_type": "stream",
     "text": [
      "d:\\Sara\\mamba_envs\\envs\\omaas_base\\Lib\\site-packages\\napari_omaas\\_widget.py:2435: UserWarning: Create a trace first by clicking on 'Display Profile'\n",
      "  return warn(\"Create a trace first by clicking on 'Display Profile'\")\n",
      "d:\\Sara\\mamba_envs\\envs\\omaas_base\\Lib\\site-packages\\napari_omaas\\_widget.py:2657: UserWarning: File 'LV Base Ant ROI 25.09.csv' exported to: M:\\PhD students\\Saranda Nimani\\Optical Mapping\\SQT-SupRep\\ROI_analysis\\SupRep-SQT1\\4Hz\\control\\red_only\\7026\\20241110_12h-06m-25\\LV Base Ant ROI 25.09.csv.\n",
      "  warn(f\"File '{filename}{file_format}' exported to: {file_path}.\")\n"
     ]
    },
    {
     "name": "stdout",
     "output_type": "stream",
     "text": [
      "APD computed on image '20241110_12h-06m-25_Clip_MotStab_Inv_NormSliWind100_SpatFiltMedi_TempFiltButt' with roi: 0\n"
     ]
    },
    {
     "name": "stderr",
     "output_type": "stream",
     "text": [
      "d:\\Sara\\mamba_envs\\envs\\omaas_base\\Lib\\site-packages\\napari_omaas\\_widget.py:2435: UserWarning: Create a trace first by clicking on 'Display Profile'\n",
      "  return warn(\"Create a trace first by clicking on 'Display Profile'\")\n",
      "d:\\Sara\\mamba_envs\\envs\\omaas_base\\Lib\\site-packages\\napari_omaas\\_widget.py:2657: UserWarning: File 'LV Base Lat ROI 25.09.csv' exported to: M:\\PhD students\\Saranda Nimani\\Optical Mapping\\SQT-SupRep\\ROI_analysis\\SupRep-SQT1\\4Hz\\control\\red_only\\7026\\20241110_12h-06m-25\\LV Base Lat ROI 25.09.csv.\n",
      "  warn(f\"File '{filename}{file_format}' exported to: {file_path}.\")\n"
     ]
    },
    {
     "name": "stdout",
     "output_type": "stream",
     "text": [
      "APD computed on image '20241110_12h-06m-25_Clip_MotStab_Inv_NormSliWind100_SpatFiltMedi_TempFiltButt' with roi: 0\n"
     ]
    },
    {
     "name": "stderr",
     "output_type": "stream",
     "text": [
      "d:\\Sara\\mamba_envs\\envs\\omaas_base\\Lib\\site-packages\\napari_omaas\\_widget.py:2435: UserWarning: Create a trace first by clicking on 'Display Profile'\n",
      "  return warn(\"Create a trace first by clicking on 'Display Profile'\")\n",
      "d:\\Sara\\mamba_envs\\envs\\omaas_base\\Lib\\site-packages\\napari_omaas\\_widget.py:2657: UserWarning: File 'LV Base Post ROI 25.09.csv' exported to: M:\\PhD students\\Saranda Nimani\\Optical Mapping\\SQT-SupRep\\ROI_analysis\\SupRep-SQT1\\4Hz\\control\\red_only\\7026\\20241110_12h-06m-25\\LV Base Post ROI 25.09.csv.\n",
      "  warn(f\"File '{filename}{file_format}' exported to: {file_path}.\")\n"
     ]
    },
    {
     "name": "stdout",
     "output_type": "stream",
     "text": [
      "APD computed on image '20241110_12h-06m-25_Clip_MotStab_Inv_NormSliWind100_SpatFiltMedi_TempFiltButt' with roi: 0\n"
     ]
    },
    {
     "name": "stderr",
     "output_type": "stream",
     "text": [
      "d:\\Sara\\mamba_envs\\envs\\omaas_base\\Lib\\site-packages\\napari_omaas\\_widget.py:2435: UserWarning: Create a trace first by clicking on 'Display Profile'\n",
      "  return warn(\"Create a trace first by clicking on 'Display Profile'\")\n",
      "d:\\Sara\\mamba_envs\\envs\\omaas_base\\Lib\\site-packages\\napari_omaas\\_widget.py:2657: UserWarning: File 'LV Mid Ant ROI 25.09.csv' exported to: M:\\PhD students\\Saranda Nimani\\Optical Mapping\\SQT-SupRep\\ROI_analysis\\SupRep-SQT1\\4Hz\\control\\red_only\\7026\\20241110_12h-06m-25\\LV Mid Ant ROI 25.09.csv.\n",
      "  warn(f\"File '{filename}{file_format}' exported to: {file_path}.\")\n"
     ]
    },
    {
     "name": "stdout",
     "output_type": "stream",
     "text": [
      "APD computed on image '20241110_12h-06m-25_Clip_MotStab_Inv_NormSliWind100_SpatFiltMedi_TempFiltButt' with roi: 0\n"
     ]
    },
    {
     "name": "stderr",
     "output_type": "stream",
     "text": [
      "d:\\Sara\\mamba_envs\\envs\\omaas_base\\Lib\\site-packages\\napari_omaas\\_widget.py:2435: UserWarning: Create a trace first by clicking on 'Display Profile'\n",
      "  return warn(\"Create a trace first by clicking on 'Display Profile'\")\n",
      "d:\\Sara\\mamba_envs\\envs\\omaas_base\\Lib\\site-packages\\napari_omaas\\_widget.py:2657: UserWarning: File 'LV Mid Lat ROI 25.09.csv' exported to: M:\\PhD students\\Saranda Nimani\\Optical Mapping\\SQT-SupRep\\ROI_analysis\\SupRep-SQT1\\4Hz\\control\\red_only\\7026\\20241110_12h-06m-25\\LV Mid Lat ROI 25.09.csv.\n",
      "  warn(f\"File '{filename}{file_format}' exported to: {file_path}.\")\n"
     ]
    },
    {
     "name": "stdout",
     "output_type": "stream",
     "text": [
      "APD computed on image '20241110_12h-06m-25_Clip_MotStab_Inv_NormSliWind100_SpatFiltMedi_TempFiltButt' with roi: 0\n"
     ]
    },
    {
     "name": "stderr",
     "output_type": "stream",
     "text": [
      "d:\\Sara\\mamba_envs\\envs\\omaas_base\\Lib\\site-packages\\napari_omaas\\_widget.py:2435: UserWarning: Create a trace first by clicking on 'Display Profile'\n",
      "  return warn(\"Create a trace first by clicking on 'Display Profile'\")\n",
      "d:\\Sara\\mamba_envs\\envs\\omaas_base\\Lib\\site-packages\\napari_omaas\\_widget.py:2657: UserWarning: File 'LV Mid Post ROI 25.09.csv' exported to: M:\\PhD students\\Saranda Nimani\\Optical Mapping\\SQT-SupRep\\ROI_analysis\\SupRep-SQT1\\4Hz\\control\\red_only\\7026\\20241110_12h-06m-25\\LV Mid Post ROI 25.09.csv.\n",
      "  warn(f\"File '{filename}{file_format}' exported to: {file_path}.\")\n"
     ]
    },
    {
     "name": "stdout",
     "output_type": "stream",
     "text": [
      "APD computed on image '20241110_12h-06m-25_Clip_MotStab_Inv_NormSliWind100_SpatFiltMedi_TempFiltButt' with roi: 0\n"
     ]
    },
    {
     "name": "stderr",
     "output_type": "stream",
     "text": [
      "d:\\Sara\\mamba_envs\\envs\\omaas_base\\Lib\\site-packages\\napari_omaas\\_widget.py:2435: UserWarning: Create a trace first by clicking on 'Display Profile'\n",
      "  return warn(\"Create a trace first by clicking on 'Display Profile'\")\n",
      "d:\\Sara\\mamba_envs\\envs\\omaas_base\\Lib\\site-packages\\napari_omaas\\_widget.py:2657: UserWarning: File 'RV Apex Ant ROI 25.09.csv' exported to: M:\\PhD students\\Saranda Nimani\\Optical Mapping\\SQT-SupRep\\ROI_analysis\\SupRep-SQT1\\4Hz\\control\\red_only\\7026\\20241110_12h-06m-25\\RV Apex Ant ROI 25.09.csv.\n",
      "  warn(f\"File '{filename}{file_format}' exported to: {file_path}.\")\n"
     ]
    },
    {
     "name": "stdout",
     "output_type": "stream",
     "text": [
      "APD computed on image '20241110_12h-06m-25_Clip_MotStab_Inv_NormSliWind100_SpatFiltMedi_TempFiltButt' with roi: 0\n"
     ]
    },
    {
     "name": "stderr",
     "output_type": "stream",
     "text": [
      "d:\\Sara\\mamba_envs\\envs\\omaas_base\\Lib\\site-packages\\napari_omaas\\_widget.py:2435: UserWarning: Create a trace first by clicking on 'Display Profile'\n",
      "  return warn(\"Create a trace first by clicking on 'Display Profile'\")\n",
      "d:\\Sara\\mamba_envs\\envs\\omaas_base\\Lib\\site-packages\\napari_omaas\\_widget.py:2657: UserWarning: File 'RV Apex Lat ROI 25.09.csv' exported to: M:\\PhD students\\Saranda Nimani\\Optical Mapping\\SQT-SupRep\\ROI_analysis\\SupRep-SQT1\\4Hz\\control\\red_only\\7026\\20241110_12h-06m-25\\RV Apex Lat ROI 25.09.csv.\n",
      "  warn(f\"File '{filename}{file_format}' exported to: {file_path}.\")\n"
     ]
    },
    {
     "name": "stdout",
     "output_type": "stream",
     "text": [
      "APD computed on image '20241110_12h-06m-25_Clip_MotStab_Inv_NormSliWind100_SpatFiltMedi_TempFiltButt' with roi: 0\n"
     ]
    },
    {
     "name": "stderr",
     "output_type": "stream",
     "text": [
      "d:\\Sara\\mamba_envs\\envs\\omaas_base\\Lib\\site-packages\\napari_omaas\\_widget.py:2435: UserWarning: Create a trace first by clicking on 'Display Profile'\n",
      "  return warn(\"Create a trace first by clicking on 'Display Profile'\")\n",
      "d:\\Sara\\mamba_envs\\envs\\omaas_base\\Lib\\site-packages\\napari_omaas\\_widget.py:2657: UserWarning: File 'RV Apex Post ROI 25.09.csv' exported to: M:\\PhD students\\Saranda Nimani\\Optical Mapping\\SQT-SupRep\\ROI_analysis\\SupRep-SQT1\\4Hz\\control\\red_only\\7026\\20241110_12h-06m-25\\RV Apex Post ROI 25.09.csv.\n",
      "  warn(f\"File '{filename}{file_format}' exported to: {file_path}.\")\n"
     ]
    },
    {
     "name": "stdout",
     "output_type": "stream",
     "text": [
      "APD computed on image '20241110_12h-06m-25_Clip_MotStab_Inv_NormSliWind100_SpatFiltMedi_TempFiltButt' with roi: 0\n"
     ]
    },
    {
     "name": "stderr",
     "output_type": "stream",
     "text": [
      "d:\\Sara\\mamba_envs\\envs\\omaas_base\\Lib\\site-packages\\napari_omaas\\_widget.py:2435: UserWarning: Create a trace first by clicking on 'Display Profile'\n",
      "  return warn(\"Create a trace first by clicking on 'Display Profile'\")\n",
      "d:\\Sara\\mamba_envs\\envs\\omaas_base\\Lib\\site-packages\\napari_omaas\\_widget.py:2657: UserWarning: File 'RV Base Ant ROI 25.09.csv' exported to: M:\\PhD students\\Saranda Nimani\\Optical Mapping\\SQT-SupRep\\ROI_analysis\\SupRep-SQT1\\4Hz\\control\\red_only\\7026\\20241110_12h-06m-25\\RV Base Ant ROI 25.09.csv.\n",
      "  warn(f\"File '{filename}{file_format}' exported to: {file_path}.\")\n"
     ]
    },
    {
     "name": "stdout",
     "output_type": "stream",
     "text": [
      "APD computed on image '20241110_12h-06m-25_Clip_MotStab_Inv_NormSliWind100_SpatFiltMedi_TempFiltButt' with roi: 0\n"
     ]
    },
    {
     "name": "stderr",
     "output_type": "stream",
     "text": [
      "d:\\Sara\\mamba_envs\\envs\\omaas_base\\Lib\\site-packages\\napari_omaas\\_widget.py:2435: UserWarning: Create a trace first by clicking on 'Display Profile'\n",
      "  return warn(\"Create a trace first by clicking on 'Display Profile'\")\n",
      "d:\\Sara\\mamba_envs\\envs\\omaas_base\\Lib\\site-packages\\napari_omaas\\_widget.py:2657: UserWarning: File 'RV Base Lat ROI 25.09.csv' exported to: M:\\PhD students\\Saranda Nimani\\Optical Mapping\\SQT-SupRep\\ROI_analysis\\SupRep-SQT1\\4Hz\\control\\red_only\\7026\\20241110_12h-06m-25\\RV Base Lat ROI 25.09.csv.\n",
      "  warn(f\"File '{filename}{file_format}' exported to: {file_path}.\")\n"
     ]
    },
    {
     "name": "stdout",
     "output_type": "stream",
     "text": [
      "APD computed on image '20241110_12h-06m-25_Clip_MotStab_Inv_NormSliWind100_SpatFiltMedi_TempFiltButt' with roi: 0\n"
     ]
    },
    {
     "name": "stderr",
     "output_type": "stream",
     "text": [
      "d:\\Sara\\mamba_envs\\envs\\omaas_base\\Lib\\site-packages\\napari_omaas\\_widget.py:2435: UserWarning: Create a trace first by clicking on 'Display Profile'\n",
      "  return warn(\"Create a trace first by clicking on 'Display Profile'\")\n",
      "d:\\Sara\\mamba_envs\\envs\\omaas_base\\Lib\\site-packages\\napari_omaas\\_widget.py:2657: UserWarning: File 'RV Base Post ROI 25.09.csv' exported to: M:\\PhD students\\Saranda Nimani\\Optical Mapping\\SQT-SupRep\\ROI_analysis\\SupRep-SQT1\\4Hz\\control\\red_only\\7026\\20241110_12h-06m-25\\RV Base Post ROI 25.09.csv.\n",
      "  warn(f\"File '{filename}{file_format}' exported to: {file_path}.\")\n",
      "d:\\Sara\\mamba_envs\\envs\\omaas_base\\Lib\\site-packages\\numpy\\lib\\nanfunctions.py:1215: RuntimeWarning: Mean of empty slice\n",
      "  return np.nanmean(a, axis, out=out, keepdims=keepdims)\n",
      "d:\\Sara\\mamba_envs\\envs\\omaas_base\\Lib\\site-packages\\numpy\\core\\fromnumeric.py:3504: RuntimeWarning: Mean of empty slice.\n",
      "  return _methods._mean(a, axis=axis, dtype=dtype,\n",
      "d:\\Sara\\mamba_envs\\envs\\omaas_base\\Lib\\site-packages\\numpy\\core\\_methods.py:129: RuntimeWarning: invalid value encountered in scalar divide\n",
      "  ret = ret.dtype.type(ret / rcount)\n"
     ]
    },
    {
     "ename": "CustomException",
     "evalue": "\n**************\nError in script file:\n'd:\\Sara\\mamba_envs\\envs\\omaas_base\\Lib\\site-packages\\napari_omaas\\_widget.py'.\nLine number:\n'2347'.\nWith error message:\n---->>>> 'index 0 is out of bounds for axis 0 with size 0' <<<<----\n**************",
     "output_type": "error",
     "traceback": [
      "\u001b[1;31m---------------------------------------------------------------------------\u001b[0m",
      "\u001b[1;31mIndexError\u001b[0m                                Traceback (most recent call last)",
      "File \u001b[1;32md:\\Sara\\mamba_envs\\envs\\omaas_base\\Lib\\site-packages\\napari_omaas\\_widget.py:2347\u001b[0m, in \u001b[0;36mOMAAS._get_APD_call_back\u001b[1;34m(self, event)\u001b[0m\n\u001b[0;32m   2345\u001b[0m \u001b[38;5;28;01mtry\u001b[39;00m:\n\u001b[1;32m-> 2347\u001b[0m     \u001b[38;5;28mself\u001b[39m\u001b[38;5;241m.\u001b[39mAPs_props \u001b[38;5;241m=\u001b[39m \u001b[43mcompute_APD_props_func\u001b[49m\u001b[43m(\u001b[49m\u001b[43mtraces\u001b[49m\u001b[43m[\u001b[49m\u001b[43mimg_indx\u001b[49m\u001b[43m \u001b[49m\u001b[38;5;241;43m+\u001b[39;49m\u001b[43m \u001b[49m\u001b[43mshape_indx\u001b[49m\u001b[43m]\u001b[49m\u001b[43m,\u001b[49m\n\u001b[0;32m   2348\u001b[0m \u001b[43m                                    \u001b[49m\u001b[43mcurr_img_name\u001b[49m\u001b[43m \u001b[49m\u001b[38;5;241;43m=\u001b[39;49m\u001b[43m \u001b[49m\u001b[43mimg\u001b[49m\u001b[38;5;241;43m.\u001b[39;49m\u001b[43mname\u001b[49m\u001b[43m,\u001b[49m\u001b[43m \u001b[49m\n\u001b[0;32m   2349\u001b[0m \u001b[43m                                    \u001b[49m\u001b[38;5;66;43;03m# cycle_length_ms= self.curr_img_metadata[\"CycleTime\"],\u001b[39;49;00m\n\u001b[0;32m   2350\u001b[0m \u001b[43m                                    \u001b[49m\u001b[43mcycle_length_ms\u001b[49m\u001b[38;5;241;43m=\u001b[39;49m\u001b[43m \u001b[49m\u001b[38;5;28;43mself\u001b[39;49m\u001b[38;5;241;43m.\u001b[39;49m\u001b[43mxscale\u001b[49m\u001b[43m,\u001b[49m\n\u001b[0;32m   2351\u001b[0m \u001b[43m                                    \u001b[49m\u001b[43mrmp_method\u001b[49m\u001b[43m \u001b[49m\u001b[38;5;241;43m=\u001b[39;49m\u001b[43m \u001b[49m\u001b[43mrmp_method\u001b[49m\u001b[43m,\u001b[49m\u001b[43m \u001b[49m\n\u001b[0;32m   2352\u001b[0m \u001b[43m                                    \u001b[49m\u001b[43mapd_perc\u001b[49m\u001b[43m \u001b[49m\u001b[38;5;241;43m=\u001b[39;49m\u001b[43m \u001b[49m\u001b[43mapd_percentage\u001b[49m\u001b[43m,\u001b[49m\u001b[43m \u001b[49m\n\u001b[0;32m   2353\u001b[0m \u001b[43m                                    \u001b[49m\u001b[43mpromi\u001b[49m\u001b[38;5;241;43m=\u001b[39;49m\u001b[38;5;28;43mself\u001b[39;49m\u001b[38;5;241;43m.\u001b[39;49m\u001b[43mprominence\u001b[49m\u001b[43m,\u001b[49m\u001b[43m \u001b[49m\n\u001b[0;32m   2354\u001b[0m \u001b[43m                                    \u001b[49m\u001b[43mroi_indx\u001b[49m\u001b[38;5;241;43m=\u001b[39;49m\u001b[43mshape_indx\u001b[49m\u001b[43m,\u001b[49m\u001b[43m \u001b[49m\n\u001b[0;32m   2355\u001b[0m \u001b[43m                                    \u001b[49m\u001b[43mroi_id\u001b[49m\u001b[43m \u001b[49m\u001b[38;5;241;43m=\u001b[39;49m\u001b[43m \u001b[49m\u001b[43mroi_id\u001b[49m\u001b[43m,\u001b[49m\n\u001b[0;32m   2356\u001b[0m \u001b[43m                                    \u001b[49m\u001b[43minterpolate\u001b[49m\u001b[38;5;241;43m=\u001b[39;49m\u001b[43m \u001b[49m\u001b[43mis_interpolated\u001b[49m\u001b[43m,\u001b[49m\n\u001b[0;32m   2357\u001b[0m \u001b[43m                                    \u001b[49m\u001b[43mcurr_file_id\u001b[49m\u001b[43m \u001b[49m\u001b[38;5;241;43m=\u001b[39;49m\u001b[43m \u001b[49m\u001b[43mimg\u001b[49m\u001b[38;5;241;43m.\u001b[39;49m\u001b[43mmetadata\u001b[49m\u001b[43m[\u001b[49m\u001b[38;5;124;43m\"\u001b[39;49m\u001b[38;5;124;43mCurrentFileSource\u001b[39;49m\u001b[38;5;124;43m\"\u001b[39;49m\u001b[43m]\u001b[49m\u001b[43m)\u001b[49m\n\u001b[0;32m   2358\u001b[0m     \u001b[38;5;66;03m# collect indexes of AP for plotting AP boudaries: ini, end, baseline\u001b[39;00m\n",
      "File \u001b[1;32md:\\Sara\\mamba_envs\\envs\\omaas_base\\Lib\\site-packages\\napari_macrokit\\_macrokit_ext.py:221\u001b[0m, in \u001b[0;36m_record_function.<locals>.wrapper\u001b[1;34m(*args, **kwargs)\u001b[0m\n\u001b[0;32m    220\u001b[0m \u001b[38;5;28;01mwith\u001b[39;00m macro\u001b[38;5;241m.\u001b[39mblocked():\n\u001b[1;32m--> 221\u001b[0m     out \u001b[38;5;241m=\u001b[39m \u001b[43m_func_\u001b[49m\u001b[43m(\u001b[49m\u001b[38;5;241;43m*\u001b[39;49m\u001b[43margs\u001b[49m\u001b[43m,\u001b[49m\u001b[43m \u001b[49m\u001b[38;5;241;43m*\u001b[39;49m\u001b[38;5;241;43m*\u001b[39;49m\u001b[43mkwargs\u001b[49m\u001b[43m)\u001b[49m\n\u001b[0;32m    222\u001b[0m expr \u001b[38;5;241m=\u001b[39m Expr\u001b[38;5;241m.\u001b[39mparse_call(_func_, macro_args, macro_kwargs)\n",
      "File \u001b[1;32md:\\Sara\\mamba_envs\\envs\\omaas_base\\Lib\\site-packages\\napari_omaas\\utils.py:938\u001b[0m, in \u001b[0;36mcompute_APD_props_func\u001b[1;34m(np_1Darray, curr_img_name, cycle_length_ms, diff_n, rmp_method, apd_perc, promi, roi_indx, roi_id, interpolate, curr_file_id)\u001b[0m\n\u001b[0;32m    937\u001b[0m indx_baseline \u001b[38;5;241m=\u001b[39m np\u001b[38;5;241m.\u001b[39margwhere(np_1Darray[ini_indx:upstroke_indx][::\u001b[38;5;241m-\u001b[39m\u001b[38;5;241m1\u001b[39m] \u001b[38;5;241m<\u001b[39m\u001b[38;5;241m=\u001b[39m resting_V[peak]) \u001b[38;5;66;03m# look backwards and find the first index where the the baseline start\u001b[39;00m\n\u001b[1;32m--> 938\u001b[0m resting_V_indx \u001b[38;5;241m=\u001b[39m upstroke_indx \u001b[38;5;241m-\u001b[39m indx_baseline[\u001b[38;5;241m0\u001b[39m][\u001b[38;5;241m0\u001b[39m] \u001b[38;5;28;01mif\u001b[39;00m indx_baseline\u001b[38;5;241m.\u001b[39msize \u001b[38;5;241m>\u001b[39m \u001b[38;5;241m0\u001b[39m \u001b[38;5;28;01melse\u001b[39;00m upstroke_indx \u001b[38;5;241m-\u001b[39m \u001b[43mnp\u001b[49m\u001b[38;5;241;43m.\u001b[39;49m\u001b[43margwhere\u001b[49m\u001b[43m(\u001b[49m\u001b[43mnp_1Darray\u001b[49m\u001b[43m[\u001b[49m\u001b[43mini_indx\u001b[49m\u001b[43m:\u001b[49m\u001b[43mupstroke_indx\u001b[49m\u001b[43m]\u001b[49m\u001b[43m[\u001b[49m\u001b[43m:\u001b[49m\u001b[43m:\u001b[49m\u001b[38;5;241;43m-\u001b[39;49m\u001b[38;5;241;43m1\u001b[39;49m\u001b[43m]\u001b[49m\u001b[43m \u001b[49m\u001b[38;5;241;43m<\u001b[39;49m\u001b[38;5;241;43m=\u001b[39;49m\u001b[43m \u001b[49m\u001b[43mnp\u001b[49m\u001b[38;5;241;43m.\u001b[39;49m\u001b[43mmean\u001b[49m\u001b[43m(\u001b[49m\u001b[43mnp_1Darray\u001b[49m\u001b[43m[\u001b[49m\u001b[43mini_indx\u001b[49m\u001b[43m:\u001b[49m\u001b[43mupstroke_indx\u001b[49m\u001b[43m]\u001b[49m\u001b[43m)\u001b[49m\u001b[43m)\u001b[49m\u001b[43m[\u001b[49m\u001b[38;5;241;43m0\u001b[39;49m\u001b[43m]\u001b[49m[\u001b[38;5;241m0\u001b[39m] \u001b[38;5;66;03m# uses index of baseline if exists otherwise get the average from ini_indx:upstroke_indx\u001b[39;00m\n\u001b[0;32m    939\u001b[0m repol_index \u001b[38;5;241m=\u001b[39m  AP_peaks_indx[peak] \u001b[38;5;241m+\u001b[39m np\u001b[38;5;241m.\u001b[39mminimum(np\u001b[38;5;241m.\u001b[39margmax(current_APD_segment \u001b[38;5;241m<\u001b[39m\u001b[38;5;241m=\u001b[39m amp_V) , current_APD_segment\u001b[38;5;241m.\u001b[39mshape[\u001b[38;5;241m-\u001b[39m\u001b[38;5;241m1\u001b[39m] \u001b[38;5;241m-\u001b[39m\u001b[38;5;241m1\u001b[39m)\n",
      "\u001b[1;31mIndexError\u001b[0m: index 0 is out of bounds for axis 0 with size 0",
      "\nDuring handling of the above exception, another exception occurred:\n",
      "\u001b[1;31mCustomException\u001b[0m                           Traceback (most recent call last)",
      "File \u001b[1;32md:\\Sara\\mamba_envs\\envs\\omaas_base\\Lib\\site-packages\\napari_omaas\\_widget.py:2403\u001b[0m, in \u001b[0;36mOMAAS._get_APD_call_back\u001b[1;34m(self, event)\u001b[0m\n\u001b[0;32m   2399\u001b[0m             \u001b[38;5;28mprint\u001b[39m(\u001b[38;5;124mf\u001b[39m\u001b[38;5;124m\"\u001b[39m\u001b[38;5;124mAPD computed on image \u001b[39m\u001b[38;5;124m'\u001b[39m\u001b[38;5;132;01m{\u001b[39;00mimg\u001b[38;5;241m.\u001b[39mname\u001b[38;5;132;01m}\u001b[39;00m\u001b[38;5;124m'\u001b[39m\u001b[38;5;124m with roi: \u001b[39m\u001b[38;5;132;01m{\u001b[39;00mshape_indx\u001b[38;5;132;01m}\u001b[39;00m\u001b[38;5;124m\"\u001b[39m)\n\u001b[0;32m   2401\u001b[0m         \u001b[38;5;28;01mexcept\u001b[39;00m \u001b[38;5;167;01mException\u001b[39;00m \u001b[38;5;28;01mas\u001b[39;00m e:\n\u001b[0;32m   2402\u001b[0m             \u001b[38;5;66;03m# warn(f\"ERROR: Computing APD parameters fails witht error: {repr(e)}.\")\u001b[39;00m\n\u001b[1;32m-> 2403\u001b[0m             \u001b[38;5;28;01mraise\u001b[39;00m CustomException(e, sys)\n\u001b[0;32m   2405\u001b[0m \u001b[38;5;28mself\u001b[39m\u001b[38;5;241m.\u001b[39m_APD_plot_widget\u001b[38;5;241m.\u001b[39maxes\u001b[38;5;241m.\u001b[39mlegend(fontsize\u001b[38;5;241m=\u001b[39m\u001b[38;5;124m\"\u001b[39m\u001b[38;5;124m8\u001b[39m\u001b[38;5;124m\"\u001b[39m)\n\u001b[0;32m   2406\u001b[0m \u001b[38;5;28mself\u001b[39m\u001b[38;5;241m.\u001b[39m_APD_plot_widget\u001b[38;5;241m.\u001b[39mcanvas\u001b[38;5;241m.\u001b[39mdraw()\n",
      "\u001b[1;31mCustomException\u001b[0m: \n**************\nError in script file:\n'd:\\Sara\\mamba_envs\\envs\\omaas_base\\Lib\\site-packages\\napari_omaas\\_widget.py'.\nLine number:\n'2347'.\nWith error message:\n---->>>> 'index 0 is out of bounds for axis 0 with size 0' <<<<----\n**************"
     ]
    },
    {
     "name": "stderr",
     "output_type": "stream",
     "text": [
      "d:\\Sara\\mamba_envs\\envs\\omaas_base\\Lib\\site-packages\\napari_omaas\\_widget.py:2657: UserWarning: File 'RV Mid Ant ROI 25.09.csv' exported to: M:\\PhD students\\Saranda Nimani\\Optical Mapping\\SQT-SupRep\\ROI_analysis\\SupRep-SQT1\\4Hz\\control\\red_only\\7026\\20241110_12h-06m-25\\RV Mid Ant ROI 25.09.csv.\n",
      "  warn(f\"File '{filename}{file_format}' exported to: {file_path}.\")\n"
     ]
    },
    {
     "name": "stdout",
     "output_type": "stream",
     "text": [
      "APD computed on image '20241110_12h-06m-25_Clip_MotStab_Inv_NormSliWind100_SpatFiltMedi_TempFiltButt' with roi: 0\n"
     ]
    },
    {
     "name": "stderr",
     "output_type": "stream",
     "text": [
      "d:\\Sara\\mamba_envs\\envs\\omaas_base\\Lib\\site-packages\\napari_omaas\\_widget.py:2435: UserWarning: Create a trace first by clicking on 'Display Profile'\n",
      "  return warn(\"Create a trace first by clicking on 'Display Profile'\")\n",
      "d:\\Sara\\mamba_envs\\envs\\omaas_base\\Lib\\site-packages\\napari_omaas\\_widget.py:2657: UserWarning: File 'RV Mid Lat ROI 25.09.csv' exported to: M:\\PhD students\\Saranda Nimani\\Optical Mapping\\SQT-SupRep\\ROI_analysis\\SupRep-SQT1\\4Hz\\control\\red_only\\7026\\20241110_12h-06m-25\\RV Mid Lat ROI 25.09.csv.\n",
      "  warn(f\"File '{filename}{file_format}' exported to: {file_path}.\")\n"
     ]
    },
    {
     "name": "stdout",
     "output_type": "stream",
     "text": [
      "APD computed on image '20241110_12h-06m-25_Clip_MotStab_Inv_NormSliWind100_SpatFiltMedi_TempFiltButt' with roi: 0\n"
     ]
    },
    {
     "name": "stderr",
     "output_type": "stream",
     "text": [
      "d:\\Sara\\mamba_envs\\envs\\omaas_base\\Lib\\site-packages\\napari_omaas\\_widget.py:2435: UserWarning: Create a trace first by clicking on 'Display Profile'\n",
      "  return warn(\"Create a trace first by clicking on 'Display Profile'\")\n",
      "d:\\Sara\\mamba_envs\\envs\\omaas_base\\Lib\\site-packages\\napari_omaas\\_widget.py:2657: UserWarning: File 'RV Mid Post ROI 25.09.csv' exported to: M:\\PhD students\\Saranda Nimani\\Optical Mapping\\SQT-SupRep\\ROI_analysis\\SupRep-SQT1\\4Hz\\control\\red_only\\7026\\20241110_12h-06m-25\\RV Mid Post ROI 25.09.csv.\n",
      "  warn(f\"File '{filename}{file_format}' exported to: {file_path}.\")\n"
     ]
    }
   ],
   "source": [
    "keywords = [\"RV\", \"LV\"]  # You can add as many keywords as you want\n",
    "list_of_rois_layers = [layer.name for layer in viewer.layers if isinstance(layer, Shapes) and any(keyword in layer.name for keyword in keywords)]\n",
    "\n",
    "o.tabs.setCurrentIndex(4)\n",
    "\n",
    "APD_percentage = 90\n",
    "\n",
    "o.slider_APD_map_percentage.setValue(APD_percentage)\n",
    "\n",
    "try:\n",
    "    for i, layer in enumerate(list_of_rois_layers):\n",
    "        select_item_by_name(layer)\n",
    "        viewer.layers.selection.active = viewer.layers[layer]\n",
    "        # NOTE: replotting is important, otherwise the plot is not updated and will export the same trace for all ROIs\n",
    "        if o.plot_profile_btn.isChecked():\n",
    "            o.plot_profile_btn.click()\n",
    "            o.plot_profile_btn.click()\n",
    "        else:\n",
    "            o.plot_profile_btn.click()\n",
    "        # export traces\n",
    "        img_name, _ = o._get_imgs_and_shapes_items_from_selector(return_layer=False)\n",
    "        table_traces = pd.DataFrame({'time_ms': o.data_main_canvas['x'][0],\n",
    "              'fluorescence _au': o.data_main_canvas['y'][0],\n",
    "              'ROI_ID': layer,\n",
    "              'filename': img_name[0]})\n",
    "        trace_path_name = os.path.join(results_folder_path, f\"{layer}_APD_raw_traces.csv\")\n",
    "        table_traces.to_csv(trace_path_name)\n",
    "        o.compute_APD_btn.click()\n",
    "        o.APD_rslts_dir_box_text.setText(results_folder_path) # uncomment this to save the files directly on the current results folder\n",
    "        o.save_APD_rslts_btn.click()\n",
    "except Exception as e:\n",
    "    print(CustomException(e, sys))"
   ]
  },
  {
   "cell_type": "code",
   "execution_count": null,
   "metadata": {},
   "outputs": [],
   "source": [
    "viewer.layers[-1].data\n"
   ]
  },
  {
   "cell_type": "code",
   "execution_count": null,
   "metadata": {},
   "outputs": [],
   "source": [
    "viewer.layers[-2].data"
   ]
  },
  {
   "cell_type": "code",
   "execution_count": null,
   "metadata": {},
   "outputs": [],
   "source": []
  }
 ],
 "metadata": {
  "kernelspec": {
   "display_name": "Python 3",
   "language": "python",
   "name": "python3"
  },
  "language_info": {
   "codemirror_mode": {
    "name": "ipython",
    "version": 3
   },
   "file_extension": ".py",
   "mimetype": "text/x-python",
   "name": "python",
   "nbconvert_exporter": "python",
   "pygments_lexer": "ipython3",
   "version": "3.11.9"
  }
 },
 "nbformat": 4,
 "nbformat_minor": 2
}
