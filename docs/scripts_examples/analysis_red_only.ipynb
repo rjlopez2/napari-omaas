{
 "cells": [
  {
   "cell_type": "markdown",
   "metadata": {},
   "source": [
    "```{currentmodule} optimap\n",
    "```"
   ]
  },
  {
   "cell_type": "markdown",
   "metadata": {},
   "source": [
    "```{tip}\n",
    "Download this tutorial as a {download}`Jupyter notebook <converted/analysis_red_only.ipynb>`, or as a {download}`python script <converted/analysis_red_only.py>` with code cells. We highly recommend using [Visual Studio Code](https://code.visualstudio.com/) to execute this tutorial. Alternatively, you could run the Python script in a terminal with ``python analysis_red_only.py`` from the folder where the file is located.\n",
    "```"
   ]
  },
  {
   "cell_type": "markdown",
   "metadata": {},
   "source": [
    "# Full analysis with single illumination (RED light)"
   ]
  },
  {
   "cell_type": "markdown",
   "metadata": {},
   "source": [
    "The goal on this jupyter notebook is to try to create APD maps from videos of panaromaic heart that were recorded using single ilumination (RED light) in a automatic or semi-automatic way, that is programatically.\n",
    "\n",
    "this notebook is separated by sections that are summarized as follow:\n",
    "\n",
    "- First we will ***load the libraries*** required for the analysis.\n",
    "- Then we will base on the ***experiment conditions*** we ***create folders*** where the results will be save it at the end of the analysis.\n",
    "- we will then try to launch the napari viewer and attached the napari-omaas plugin to ***open a file***.\n",
    "- for this example we will use only the anterior view, so we will ***crop & rotate*** the image as needed.\n",
    "- We will then try to visualize the ***plot profile*** of the fluorescence signal of the this example image along the whole time series using a predefined ROI.\n",
    "- We will ***clip the image*** to only 10 beats.\n",
    "- We will then on the resulting image apply ***motion correction***\n",
    "- then we will preprocess the image by ***invert and normalization*** methods an thereafter we will ***apply spatial and temporal filteres*** to improve the image quality and finally ***segment*** the shape of the heart.\n",
    "- with this preporcessed image we will proceed on ***averaging*** temporally the 10 beats to a single one.\n",
    "- after this step we are ready to ***compute APD*** from a single beat image \n",
    "- post-processing of the APD could be done manually and after getting nicely visualy APD maps we can then ***save the resulting APD maps*** to the results folder initially created.\n",
    "\n"
   ]
  },
  {
   "cell_type": "markdown",
   "metadata": {},
   "source": [
    "## Load libraries"
   ]
  },
  {
   "cell_type": "code",
   "execution_count": 1,
   "metadata": {},
   "outputs": [],
   "source": [
    "%load_ext autoreload\n",
    "%autoreload 2"
   ]
  },
  {
   "cell_type": "code",
   "execution_count": 2,
   "metadata": {},
   "outputs": [],
   "source": [
    "import napari\n",
    "import napari_omaas\n",
    "from napari_omaas import utils\n",
    "from napari.utils import nbscreenshot\n",
    "import numpy as np\n",
    "from napari_omaas.custom_exceptions import CustomException\n",
    "import sys\n",
    "import os\n",
    "from pathlib import Path\n",
    "import tempfile"
   ]
  },
  {
   "cell_type": "markdown",
   "metadata": {},
   "source": [
    "### Define helper functions"
   ]
  },
  {
   "cell_type": "code",
   "execution_count": 3,
   "metadata": {},
   "outputs": [],
   "source": [
    "def viewer_show_las_layer(viewer):\n",
    "    \"\"\"\n",
    "\n",
    "    Helper function to hide all layers but last one.\n",
    "\n",
    "    Parameters\n",
    "    ----------\n",
    "    viewer : a viewer instance\n",
    "        \n",
    "    \"\"\"\n",
    "    for index, layer in enumerate(viewer.layers):\n",
    "        if index!=(len(viewer.layers)-1):\n",
    "            layer.visible = False"
   ]
  },
  {
   "cell_type": "code",
   "execution_count": null,
   "metadata": {},
   "outputs": [],
   "source": [
    "viewer = napari.Viewer(show=False)\n",
    "# viewer = napari.Viewer(show=True)\n",
    "o = napari_omaas.OMAAS(viewer)\n",
    "viewer.window.add_dock_widget(o, area='right')"
   ]
  },
  {
   "cell_type": "code",
   "execution_count": 5,
   "metadata": {},
   "outputs": [],
   "source": [
    "##################\n",
    "## SupRep-SQT1 ###\n",
    "##################\n",
    "\n",
    "# my_file = r\"\\\\PC160\\GroupOdening\\OM_data_Bern\\raw_data\\2024\\20241110\\Videosdata\\20241110_12h-06m-25\" #control 4Hz 11.10.24 #7026 SupRep-SQT1 *red only* *done*\n",
    "# my_file = r\"\\\\PC160\\GroupOdening\\OM_data_Bern\\raw_data\\2024\\20241110\\Videosdata\\20241110_12h-20m-25\" #carbachol 2.5Hz 11.10.24 #7026 SupRep-SQT1 *red only* *done*\n"
   ]
  },
  {
   "cell_type": "markdown",
   "metadata": {},
   "source": [
    "## **NOTE:**\n",
    "\n",
    "For this example, we will not be working directly with files from our institutional storage server (GroupOdenning). Such files are, for example, located at the path addreses listed above for experiments conducted by PhD Saranda Nimani.\n",
    "\n",
    "Instead, we will be using one of the files listed above labeled with the following timestanmp `20241110_12h-20m-25`, which is accesibale online the website of the [Insititute of Physiology](https://physiologie.unibe.ch/~odening/group/shareddata.aspx) as `single_illumination_spool_data_sample (772 MB)`.\n",
    "\n",
    "The resulting ouput from this analysis pipeline will be sotrage in a temporal folder, as defined further bellow. You can change this folder to your prefered folder."
   ]
  },
  {
   "cell_type": "code",
   "execution_count": 6,
   "metadata": {},
   "outputs": [],
   "source": [
    "my_file = \"20241110_12h-20m-25\""
   ]
  },
  {
   "cell_type": "markdown",
   "metadata": {},
   "source": [
    "## Define the experiment conditions"
   ]
  },
  {
   "cell_type": "markdown",
   "metadata": {},
   "source": [
    "The conditions here defined are based on specific experiment. Details on that can be found in the lab sotrage driver wher this folder resides together with scan of the labbook with its respective annotations.\n",
    "\n",
    "In this especific example we were using two different stimulation condition (2.5 and 4 Hz). We use the following drugs conditions: (carbachol and control). We used four different genotypes conditions: (WT, Sham-SQT1, UT-SQT1 and SupRep-SQT1) and finally we use the animal ID."
   ]
  },
  {
   "cell_type": "code",
   "execution_count": 7,
   "metadata": {},
   "outputs": [],
   "source": [
    "freq_estim_condition = \"2.5Hz\"\n",
    "# freq_estim_condition = \"4Hz\"\n",
    "\n",
    "condition = \"carbachol\"\n",
    "# condition = \"control\"\n",
    "\n",
    "# illumination_type = \"dual_illumination\"\n",
    "illumination_type = \"red_only\"\n",
    "\n",
    "# genotype = \"WT\"\n",
    "# genotype = \"Sham-SQT1\"\n",
    "# genotype = \"UT-SQT1\"\n",
    "genotype = \"SupRep-SQT1\"\n",
    "\n",
    "# animal_id = str(7028)\n",
    "# animal_id = str(7004)\n",
    "# animal_id = str(7009)\n",
    "animal_id = str(7026)"
   ]
  },
  {
   "cell_type": "markdown",
   "metadata": {},
   "source": [
    "## Create result folders"
   ]
  },
  {
   "cell_type": "markdown",
   "metadata": {},
   "source": [
    "For the pourpose of this tutorial, in this example we are using a temporal folder.\n",
    "\n",
    "You may want to change this folder to your prefered folder to store your results. "
   ]
  },
  {
   "cell_type": "code",
   "execution_count": null,
   "metadata": {},
   "outputs": [],
   "source": [
    " \n",
    "############# here we create the saving results folder ############# \n",
    "\n",
    "# results_folder_name = fr\"M:\\PhD students\\Saranda Nimani\\Optical Mapping\\SQT-SupRep\\APD maps\\{genotype}\\{freq_estim_condition}\\{condition}\\{illumination_type}\\{animal_id}\\{os.path.basename(my_file)}\"\n",
    "\n",
    "# results_folder_name = fr\"APD maps\\{genotype}\\{freq_estim_condition}\\{condition}\\{illumination_type}\\{animal_id}\\{os.path.basename(my_file)}\"\n",
    "results_folder_path = Path(tempfile.gettempdir()) / \"napari_omaas_sample_data\" / \"APD_maps_tutorial_results\" / genotype / freq_estim_condition / condition / illumination_type / animal_id / os.path.basename(my_file)\n",
    "# results_folder_path.mkdir(exist_ok=True)\n",
    "\n",
    "# results_folder_path = os.path.normpath(results_folder_name)\n",
    "if not results_folder_path.exists():\n",
    "    print(f\"Creating Folder: \\n'{results_folder_path}'\\n*Done*.\")\n",
    "    results_folder_path.mkdir(parents=True, exist_ok=True)\n",
    "else:\n",
    "    print(f\"Folder: \\n'{results_folder_path}'\\nAlready exists\")"
   ]
  },
  {
   "cell_type": "code",
   "execution_count": null,
   "metadata": {},
   "outputs": [],
   "source": [
    "############# here we create a folder to save the mask for segmentation ############# \n",
    "\n",
    "mask_folder = results_folder_path / \"mask\"\n",
    "if not os.path.exists(mask_folder):\n",
    "    print(f\"Creating Folder: \\n'{mask_folder}'\\n*Done*.\")\n",
    "    mask_folder.mkdir(parents=True, exist_ok=True)\n",
    "else:\n",
    "    print(f\"Folder: \\n'{mask_folder}'\\nAlready exists\")"
   ]
  },
  {
   "cell_type": "markdown",
   "metadata": {},
   "source": [
    "## Open File"
   ]
  },
  {
   "cell_type": "code",
   "execution_count": null,
   "metadata": {},
   "outputs": [],
   "source": [
    "%%capture\n",
    "# the %%capture command above will hide the ouptut of this cell bc can be very long (only used for the documentation)\n",
    "\n",
    "try:\n",
    "    # viewer.open(path=my_file, plugin= \"napari-omaas\")\n",
    "    viewer.open_sample('napari-omaas', 'heart_sample_2')\n",
    "except Exception as e:\n",
    "    raise CustomException(e, sys)"
   ]
  },
  {
   "cell_type": "markdown",
   "metadata": {},
   "source": [
    "Let's now see what we get in the viewer"
   ]
  },
  {
   "cell_type": "code",
   "execution_count": null,
   "metadata": {},
   "outputs": [],
   "source": [
    "nbscreenshot(viewer)"
   ]
  },
  {
   "cell_type": "markdown",
   "metadata": {},
   "source": [
    "### some info from this file\n",
    "\n",
    "Let's explore the content of the metadata of the recently downloaded file as indicated bellow."
   ]
  },
  {
   "cell_type": "code",
   "execution_count": null,
   "metadata": {},
   "outputs": [],
   "source": [
    "viewer.layers[-1].metadata"
   ]
  },
  {
   "cell_type": "markdown",
   "metadata": {},
   "source": [
    "## Crop & rotate shape"
   ]
  },
  {
   "cell_type": "markdown",
   "metadata": {},
   "source": [
    "In this section we create a rectangular shape that we will use to crop the anterior view of the (most-left) of the panaromic image."
   ]
  },
  {
   "cell_type": "code",
   "execution_count": null,
   "metadata": {},
   "outputs": [],
   "source": [
    "\n",
    "my_shape = [np.array([[-27.10448098, 376.83908381],\n",
    "        [-27.10448098,  67.77374194],\n",
    "        [272.08514108,  67.77374194],\n",
    "        [272.08514108, 376.83908381]])]\n",
    "\n",
    "viewer.add_shapes(my_shape)\n",
    "\n",
    "o.rotate_l_crop.setChecked(True)\n",
    "o.crop_from_shape_btn.click() # done\n"
   ]
  },
  {
   "cell_type": "markdown",
   "metadata": {},
   "source": [
    "## plot profile"
   ]
  },
  {
   "cell_type": "markdown",
   "metadata": {},
   "source": [
    "We create a new shape that we will use to plot the data along the time axis in the image stack and visualize this way the fluorescence signal."
   ]
  },
  {
   "cell_type": "code",
   "execution_count": 14,
   "metadata": {},
   "outputs": [],
   "source": [
    "\n",
    "my_shape =[np.array([[128.03402574, 142.83315215],\n",
    "        [128.03402574, 187.82476519],\n",
    "        [178.56426079, 187.82476519],\n",
    "        [178.56426079, 142.83315215]])]\n",
    "\n",
    "\n",
    "viewer.add_shapes(my_shape, name=\"ROI_1\")\n",
    "\n",
    "o.plot_last_generated_img(shape_indx=1)"
   ]
  },
  {
   "cell_type": "code",
   "execution_count": null,
   "metadata": {},
   "outputs": [],
   "source": [
    "nbscreenshot(viewer)"
   ]
  },
  {
   "cell_type": "markdown",
   "metadata": {},
   "source": [
    "What we observe in the screenshot above is the plot profile of the croped image (Anterior view) using the ROI from the shape layer `ROI_1`.\n",
    "\n",
    "We also observe an artefact at approximateley time ~ 4800 ms.\n",
    "In the next section we will clip the file to only 10 beat cycles."
   ]
  },
  {
   "cell_type": "markdown",
   "metadata": {},
   "source": [
    "## Clip trace to 10 APs"
   ]
  },
  {
   "cell_type": "code",
   "execution_count": null,
   "metadata": {},
   "outputs": [],
   "source": [
    "# you can call the current clipping values with the following command:\n",
    "o.double_slider_clip_trace.value()"
   ]
  },
  {
   "cell_type": "code",
   "execution_count": null,
   "metadata": {},
   "outputs": [],
   "source": [
    "clipping_values = (569.5483417085427, 4576.026331658292)  #carbachol 2.5Hz 11.10.24 #7026 SupRep-SQT1 *red only*\n",
    "\n",
    "\n",
    "o.plot_last_generated_img(shape_indx=1)\n",
    "\n",
    "o.is_range_clicked_checkbox.setChecked(True)\n",
    "o.double_slider_clip_trace.setValue(clipping_values)\n",
    "o.clip_trace_btn.click() \n",
    "\n",
    "\n"
   ]
  },
  {
   "cell_type": "markdown",
   "metadata": {},
   "source": [
    "we can visualize again the fluorescence intensity of the resulting image and check that only contain 10 cycles. \n",
    "\n",
    "First le's hide the layers we dont use anymore and keep visible only the last one from now and center the image in the viewer."
   ]
  },
  {
   "cell_type": "code",
   "execution_count": 18,
   "metadata": {},
   "outputs": [],
   "source": [
    "viewer_show_las_layer(viewer)\n",
    "\n",
    "viewer.camera.center = 0.0, 150, 127\n",
    "viewer.camera.zoom = 2.3"
   ]
  },
  {
   "cell_type": "code",
   "execution_count": null,
   "metadata": {},
   "outputs": [],
   "source": [
    "nbscreenshot(viewer)"
   ]
  },
  {
   "cell_type": "markdown",
   "metadata": {},
   "source": [
    "## Apply motion correction"
   ]
  },
  {
   "cell_type": "markdown",
   "metadata": {},
   "source": [
    "We will apply motion correction to the resulting image, using borowwed method from the package `optimap` from Jan Lebber and Jan Chritoph.\n",
    "\n",
    "You can explore more on this methods at their [library documentation](https://cardiacvision.github.io/optimap/main/tutorials/motion_compensation/)\n",
    "\n",
    "For this example, we add known setting that work ok for most of the cases. "
   ]
  },
  {
   "cell_type": "code",
   "execution_count": null,
   "metadata": {},
   "outputs": [],
   "source": [
    "%%capture\n",
    "# the %%capture command above will hide the ouptut of this cell bc can be very long (only used for the documentation)\n",
    "\n",
    "curr_imag = viewer.layers[-1]\n",
    "viewer.layers.selection.active = curr_imag\n",
    "\n",
    "contrast_kernel = 3\n",
    "ref_frame = 10\n",
    "o.pre_smooth_temp.setValue(1)\n",
    "o.pre_smooth_spat.setValue(1) \n",
    "o.c_kernels.setValue(contrast_kernel)\n",
    "o.ref_frame_val.setText(str(ref_frame))\n",
    "\n",
    "o.apply_optimap_mot_corr_btn.click()\n"
   ]
  },
  {
   "cell_type": "markdown",
   "metadata": {},
   "source": [
    "You can explore interactively the resulting image by using the viewer and compare with the original to explore anc check the quality of the motion correction."
   ]
  },
  {
   "cell_type": "markdown",
   "metadata": {},
   "source": [
    "## Invert and normalize"
   ]
  },
  {
   "cell_type": "code",
   "execution_count": null,
   "metadata": {},
   "outputs": [],
   "source": [
    "# Using slide window method for normalization to detrend the signal\n",
    "o.data_normalization_options.setCurrentText(\"Slide window\")\n",
    "o.slide_wind_n.setValue(200)\n",
    "# o.data_normalization_options.setCurrentText(\"Local max\") # Note: Use when stable traces or when \"Slide window\" is creating artifacts\n",
    "o.inv_and_norm_data_btn.click()\n",
    "\n",
    "o.plot_last_generated_img(shape_indx=1)"
   ]
  },
  {
   "cell_type": "code",
   "execution_count": null,
   "metadata": {},
   "outputs": [],
   "source": [
    "nbscreenshot(viewer)"
   ]
  },
  {
   "cell_type": "markdown",
   "metadata": {},
   "source": [
    "## Apply spatial and temporal filters"
   ]
  },
  {
   "cell_type": "code",
   "execution_count": null,
   "metadata": {},
   "outputs": [],
   "source": [
    "o.spat_filter_types.setCurrentText(\"Median\")\n",
    "o.apply_spat_filt_btn.click()"
   ]
  },
  {
   "cell_type": "code",
   "execution_count": null,
   "metadata": {},
   "outputs": [],
   "source": [
    "o.apply_temp_filt_btn.click()"
   ]
  },
  {
   "cell_type": "code",
   "execution_count": 25,
   "metadata": {},
   "outputs": [],
   "source": [
    "o.plot_last_generated_img(shape_indx=1)"
   ]
  },
  {
   "cell_type": "code",
   "execution_count": null,
   "metadata": {},
   "outputs": [],
   "source": [
    "nbscreenshot(viewer)"
   ]
  },
  {
   "cell_type": "markdown",
   "metadata": {},
   "source": [
    "## Segment Image"
   ]
  },
  {
   "cell_type": "code",
   "execution_count": 27,
   "metadata": {},
   "outputs": [],
   "source": [
    "viewer_show_las_layer(viewer)"
   ]
  },
  {
   "cell_type": "code",
   "execution_count": 28,
   "metadata": {},
   "outputs": [],
   "source": [
    "mask_file_path = os.path.join(mask_folder, \"Heart_labels_NullBckgrnd.tif\")"
   ]
  },
  {
   "cell_type": "code",
   "execution_count": null,
   "metadata": {},
   "outputs": [],
   "source": [
    "# use another image layer to create mask, then use that mask to to apply segmentation to last layer\n",
    "\n",
    "viewer.layers.selection.active = viewer.layers[5] # take the ratio image normalized\n",
    "o.return_img_no_backg_btn.setChecked(False)\n",
    "# o.return_img_no_backg_btn.setChecked(True)\n",
    "o.apply_auto_segmentation_btn.click()\n",
    "viewer.layers.select_previous()\n",
    "o.apply_manual_segmentation_btn.click() # done"
   ]
  },
  {
   "cell_type": "code",
   "execution_count": 30,
   "metadata": {},
   "outputs": [],
   "source": [
    "viewer_show_las_layer(viewer)"
   ]
  },
  {
   "cell_type": "code",
   "execution_count": null,
   "metadata": {},
   "outputs": [],
   "source": [
    "# save Mask if newly created\n",
    "try:\n",
    "    print(f\"Saving mask to: \\n'{mask_file_path}'\\n*Done*.\")\n",
    "    viewer.layers[-1].save(mask_file_path)\n",
    "except Exception as e:\n",
    "    CustomException(e, sys)"
   ]
  },
  {
   "cell_type": "markdown",
   "metadata": {},
   "source": [
    "If you want to reuse the same mask for another similar image, uncoment the next code cell"
   ]
  },
  {
   "cell_type": "code",
   "execution_count": null,
   "metadata": {},
   "outputs": [],
   "source": [
    "# curr_imag = viewer.layers[-1]\n",
    "\n",
    "\n",
    "# try:\n",
    "#     viewer.open(mask_file_path)\n",
    "# except Exception as e:\n",
    "#     CustomException(e, sys)\n",
    "\n",
    "# viewer.layers.selection.active = curr_imag\n",
    "# o.apply_manual_segmentation_btn.click() # done\n",
    "# dont forget to change mask folder!"
   ]
  },
  {
   "cell_type": "markdown",
   "metadata": {},
   "source": [
    "## Average APs"
   ]
  },
  {
   "cell_type": "markdown",
   "metadata": {},
   "source": [
    "We create a new ROI from wich we will use their averaged values profile to average the 10 beat (cardiac cycles) in our trace."
   ]
  },
  {
   "cell_type": "code",
   "execution_count": null,
   "metadata": {},
   "outputs": [],
   "source": [
    "\n",
    "# del viewer.layers[0]\n",
    "my_shape = [np.array([[136.79882203, 101.27454257],\n",
    "        [136.79882203, 168.68341024],\n",
    "        [205.2137922 , 168.68341024],\n",
    "        [205.2137922 , 101.27454257]])]\n",
    "\n",
    "viewer.add_shapes(my_shape)\n",
    "o.plot_last_generated_img(shape_indx=2)\n",
    "\n",
    "# preview AP splitting results\n",
    "o.tabs.setCurrentIndex(3)\n",
    "o.preview_AP_splitted_btn.click()\n",
    "\n",
    "\n"
   ]
  },
  {
   "cell_type": "code",
   "execution_count": null,
   "metadata": {},
   "outputs": [],
   "source": [
    "nbscreenshot(viewer)"
   ]
  },
  {
   "cell_type": "code",
   "execution_count": null,
   "metadata": {},
   "outputs": [],
   "source": [
    "# create average from splitted APs\n",
    "o.create_average_AP_btn.click()\n",
    "o.plot_last_generated_img(shape_indx=2)\n",
    "o.preview_AP_splitted_btn.click()\n",
    "\n"
   ]
  },
  {
   "cell_type": "code",
   "execution_count": null,
   "metadata": {},
   "outputs": [],
   "source": [
    "nbscreenshot(viewer)"
   ]
  },
  {
   "cell_type": "code",
   "execution_count": null,
   "metadata": {},
   "outputs": [],
   "source": [
    "# Save averaged image\n",
    "# o.save_img_dir_box_text.setText(results_folder_path)\n",
    "# # for value in [-1]:\n",
    "# for value in [-1, -2]:\n",
    "#     viewer.layers.selection.active = viewer.layers[value]\n",
    "#     o.export_image_btn.click()"
   ]
  },
  {
   "cell_type": "markdown",
   "metadata": {},
   "source": [
    "## Compute APD maps"
   ]
  },
  {
   "cell_type": "markdown",
   "metadata": {},
   "source": [
    "Let's move the current viewer to the first image frame."
   ]
  },
  {
   "cell_type": "code",
   "execution_count": 38,
   "metadata": {},
   "outputs": [],
   "source": [
    "viewer.dims.current_step = (0, 156, 749)"
   ]
  },
  {
   "cell_type": "code",
   "execution_count": null,
   "metadata": {},
   "outputs": [],
   "source": [
    "o.tabs.setCurrentIndex(3)\n",
    "thresh_value = o.slider_APD_detection_threshold.value() * 0.0001\n",
    "thresh_value"
   ]
  },
  {
   "cell_type": "code",
   "execution_count": 40,
   "metadata": {},
   "outputs": [],
   "source": [
    "# You could also adjust the APD detection trheshold as shown bellow.\n",
    "\n",
    "# thresh_value = 0.0146 #control 4Hz 30.07.24\n",
    "\n",
    "o.slider_APD_detection_threshold.setValue(int(thresh_value * 10000))"
   ]
  },
  {
   "cell_type": "code",
   "execution_count": null,
   "metadata": {},
   "outputs": [],
   "source": [
    "\n",
    "%%capture\n",
    "# the %%capture command above will hide the ouptut of this cell bc can be very long (only used for the documentation)\n",
    "\n",
    "# o.plot_last_generated_img()\n",
    "# o.preview_AP_splitted_btn.click()\n",
    "target_image = viewer.layers[-1]\n",
    "# image_stack = target_image.data\n",
    "# for value in [75, 90]:\n",
    "for value in [90]:\n",
    "    viewer.layers.selection.active = target_image\n",
    "    o.slider_APD_map_percentage.setValue(value)\n",
    "    o.toggle_map_type.setChecked(True)\n",
    "    o.make_maps_btn.click()\n"
   ]
  },
  {
   "cell_type": "markdown",
   "metadata": {},
   "source": [
    "### Visualize the resulting map (APD-90)"
   ]
  },
  {
   "cell_type": "code",
   "execution_count": 68,
   "metadata": {},
   "outputs": [],
   "source": [
    "viewer_show_las_layer(viewer)"
   ]
  },
  {
   "cell_type": "code",
   "execution_count": null,
   "metadata": {},
   "outputs": [],
   "source": [
    "nbscreenshot(viewer)"
   ]
  },
  {
   "cell_type": "markdown",
   "metadata": {},
   "source": [
    "In the Post-processing Maps tab, the resulting map can be better visualized as a contour plot. For that, we will change the current tab to the `Post-processing Maps` tab and we select the map generated to plot it.\n",
    "\n",
    "Let's have a look:"
   ]
  },
  {
   "cell_type": "code",
   "execution_count": 70,
   "metadata": {},
   "outputs": [],
   "source": [
    "o.tabs.setCurrentIndex(3)\n",
    "o.mapping_tabs.setCurrentIndex(1)"
   ]
  },
  {
   "cell_type": "code",
   "execution_count": null,
   "metadata": {},
   "outputs": [],
   "source": [
    "# select the first item in the list of images maps (only one present at the moment)\n",
    "\n",
    "o.map_imgs_selector.item(0).setSelected(True)\n",
    "o.plot_curr_map_btn.click()"
   ]
  },
  {
   "cell_type": "code",
   "execution_count": 72,
   "metadata": {},
   "outputs": [],
   "source": [
    "# o.clear_curr_map_btn.click()"
   ]
  },
  {
   "cell_type": "code",
   "execution_count": null,
   "metadata": {},
   "outputs": [],
   "source": [
    "nbscreenshot(viewer)"
   ]
  },
  {
   "cell_type": "markdown",
   "metadata": {},
   "source": [
    "## Save maps"
   ]
  },
  {
   "cell_type": "markdown",
   "metadata": {},
   "source": [
    "We save the map generated (APD-90) and the last image (average and preprocessed stack)"
   ]
  },
  {
   "cell_type": "code",
   "execution_count": null,
   "metadata": {},
   "outputs": [],
   "source": [
    "#  Here we export last 3 images\n",
    "o.save_img_dir_box_text.setText(str(results_folder_path))\n",
    "# for value in [-1]:\n",
    "for value in range(-1, -3, -1):\n",
    "    viewer.layers.selection.active = viewer.layers[value]\n",
    "    o.export_image_btn.click()"
   ]
  }
 ],
 "metadata": {
  "kernelspec": {
   "display_name": "roi_plugin_test",
   "language": "python",
   "name": "python3"
  },
  "language_info": {
   "codemirror_mode": {
    "name": "ipython",
    "version": 3
   },
   "file_extension": ".py",
   "mimetype": "text/x-python",
   "name": "python",
   "nbconvert_exporter": "python",
   "pygments_lexer": "ipython3",
   "version": "3.11.11"
  }
 },
 "nbformat": 4,
 "nbformat_minor": 2
}
