{
 "cells": [
  {
   "cell_type": "markdown",
   "metadata": {},
   "source": [
    "# Load libraries"
   ]
  },
  {
   "cell_type": "code",
   "execution_count": null,
   "metadata": {},
   "outputs": [],
   "source": [
    "import napari\n",
    "import napari_omaas\n",
    "from napari_omaas import utils\n",
    "import numpy as np\n",
    "from napari_omaas.custom_exceptions import CustomException\n",
    "import sys\n",
    "import os"
   ]
  },
  {
   "cell_type": "code",
   "execution_count": null,
   "metadata": {},
   "outputs": [],
   "source": [
    "viewer = napari.Viewer()\n",
    "o = napari_omaas.OMAAS(viewer)\n",
    "viewer.window.add_dock_widget(o, area='right')"
   ]
  },
  {
   "cell_type": "code",
   "execution_count": null,
   "metadata": {},
   "outputs": [],
   "source": [
    "# my_file = r\"M:\\OM_data_Bern\\raw_data\\2024\\20240708\\Videosdata\\20240708_12h-00m-09\" #carbachol 2.5Hz\n",
    "# my_file = r\"\\\\PC160\\GroupOdening\\OM_data_Bern\\raw_data\\2024\\20240708\\Videosdata\\20240708_12h-05m-57\" # Cbc 4hz\n",
    "\n",
    "##################\n",
    "####### WT #######\n",
    "##################\n",
    "\n",
    "# my_file = r\"M:\\OM_data_Bern\\raw_data\\2024\\20242507\\Videosdata\\20242507_11h-50m-54\" #control 4Hz 25.07.24 #6994 WT *red only* *done*\n",
    "# my_file = r\"M:\\OM_data_Bern\\raw_data\\2024\\20242507\\Videosdata\\20242507_12h-47m-42\" #carbachol 2.5Hz 25.07.24 #6994 WT *red only* *done*\n",
    "\n",
    "# my_file = r\"\\\\PC160\\GroupOdening\\OM_data_Bern\\raw_data\\2024\\20243007\\Videosdata\\20243007_12h-36m-16\" #control 4Hz 30.07.24 #6999 WT *red only* *done*\n",
    "# my_file = r\"\\\\PC160\\GroupOdening\\OM_data_Bern\\raw_data\\2024\\20243007\\Videosdata\\20243007_13h-02m-05\" #carbachol 2.5Hz 30.07.24 #6999 WT *red only* *done*\n",
    "\n",
    "# my_file = r\"\\\\PC160\\GroupOdening\\OM_data_Bern\\raw_data\\2024\\20242509\\Videosdata\\Animal_7006\\20242509_11h-40m-42\" #control 4Hz 25.09.24 #7006 WT *red only* *done*\n",
    "# my_file = r\"\\\\PC160\\GroupOdening\\OM_data_Bern\\raw_data\\2024\\20242509\\Videosdata\\Animal_7006\\20242509_11h-45m-34\" #carbachol 2.5Hz 25.09.24 #7006 WT *red only* *done*\n",
    "\n",
    "# my_file = r\"\\\\PC160\\GroupOdening\\OM_data_Bern\\raw_data\\2024\\20240711\\WT 7030\\Videosdata\\20240711_14h-45m-09\" #control 4Hz 07.11.24 #7030 WT *red only* *done*\n",
    "# my_file = r\"\\\\PC160\\GroupOdening\\OM_data_Bern\\raw_data\\2024\\20240711\\WT 7030\\Videosdata\\20240711_14h-46m-30\" #carbachol 2.5Hz 07.11.24 #7030 WT *red only* *done*\n",
    "\n",
    "\n",
    "\n",
    "##################\n",
    "#### Sham-SQT1 #####\n",
    "##################\n",
    "\n",
    "# my_file = r\"\\\\PC160\\GroupOdening\\OM_data_Bern\\raw_data\\2024\\20242908\\Videosdata\\20242908_11h-58m-39\" #control 4Hz 07.08.24 #7024 Sham-SQT1 *red only* *done*\n",
    "# my_file = r\"\\\\PC160\\GroupOdening\\OM_data_Bern\\raw_data\\2024\\20242908\\Videosdata\\20242908_12h-18m-25\" #carbachol 2.5Hz 07.08.24 #7024 Sham-SQT1 *red only* *done*\n",
    "\n",
    "\n",
    "##################\n",
    "#### UT-SQT1 #####\n",
    "##################\n",
    "\n",
    "# my_file = r\"M:\\OM_data_Bern\\raw_data\\2024\\20240708\\Videosdata\\20240708_11h-39m-24\" #control 4Hz 07.08.24 #7023 UT-SQT1 *red only* *done*\n",
    "# my_file = r\"M:\\OM_data_Bern\\raw_data\\2024\\20240708\\Videosdata\\20240708_12h-00m-09\" #carbachol 2.5Hz 07.08.24 #7023 UT-SQT1 *red only* *done*\n",
    "\n",
    "# my_file = r\"\\\\PC160\\GroupOdening\\OM_data_Bern\\raw_data\\2024\\20241810\\Videosdata\\20241810_13h-48m-11\" #control 4Hz 10.10.24 #6325 UT-SQT1 *red only* *done*\n",
    "# my_file = r\"\\\\PC160\\GroupOdening\\OM_data_Bern\\raw_data\\2024\\20241810\\Videosdata\\20241810_14h-19m-43\" #carbachol 2.5Hz 10.10.24 #6325 UT-SQT1 *red only* *done*\n",
    "\n",
    "# my_file = r\"\\\\PC160\\GroupOdening\\OM_data_Bern\\raw_data\\2024\\20240711\\UT-SQT1 7028\\Videosdata\\20240711_11h-44m-04\" #control 4Hz 07.11.24 #7028 UT-SQT1 *red only* *done*\n",
    "# my_file = r\"\\\\PC160\\GroupOdening\\OM_data_Bern\\raw_data\\2024\\20240711\\UT-SQT1 7028\\Videosdata\\20240711_11h-56m-36\" #carbachol 2.5Hz 07.11.24 #7028 UT-SQT1 *red only* *done*\n",
    "\n",
    "\n",
    "##################\n",
    "## SupRep-SQT1 ###\n",
    "##################\n",
    "\n",
    "# my_file = r\"\\\\PC160\\GroupOdening\\OM_data_Bern\\raw_data\\2024\\20240909\\Videosdata\\20240909_11h-43m-21\" #control 4Hz 09.09.24 #7004 SupRep-SQT1 *red only* *done*\n",
    "# my_file = r\"\\\\PC160\\GroupOdening\\OM_data_Bern\\raw_data\\2024\\20240909\\Videosdata\\20240909_11h-57m-45\" #carbachol 2.5Hz 09.09.24 #7004 SupRep-SQT1 *red only* *done*\n",
    "\n",
    "# my_file = r\"\\\\PC160\\GroupOdening\\OM_data_Bern\\raw_data\\2024\\20240910\\Videosdata\\20240910_11h-19m-29\" #control 4Hz 09.10.24 #7009 SupRep-SQT1 *red only* *done*\n",
    "# my_file = r\"\\\\PC160\\GroupOdening\\OM_data_Bern\\raw_data\\2024\\20240910\\Videosdata\\20240910_11h-41m-57\" #carbachol 2.5Hz 09.10.24 #7009 SupRep-SQT1 *red only* *done*\n",
    "\n",
    "# my_file = r\"\\\\PC160\\GroupOdening\\OM_data_Bern\\raw_data\\2024\\20241110\\Videosdata\\20241110_12h-06m-25\" #control 4Hz 11.10.24 #7026 SupRep-SQT1 *red only* *done*\n",
    "my_file = r\"\\\\PC160\\GroupOdening\\OM_data_Bern\\raw_data\\2024\\20241110\\Videosdata\\20241110_12h-20m-25\" #carbachol 2.5Hz 11.10.24 #7026 SupRep-SQT1 *red only* *done*\n",
    "\n"
   ]
  },
  {
   "cell_type": "markdown",
   "metadata": {},
   "source": [
    "# define the experiment conditions"
   ]
  },
  {
   "cell_type": "code",
   "execution_count": null,
   "metadata": {},
   "outputs": [],
   "source": [
    "os.path.basename(my_file)[:8]\n",
    "\n",
    "\n",
    "freq_estim_condition = \"2.5Hz\"\n",
    "# freq_estim_condition = \"4Hz\"\n",
    "\n",
    "condition = \"carbachol\"\n",
    "# condition = \"control\"\n",
    "\n",
    "# illumination_type = \"dual_illumination\"\n",
    "illumination_type = \"red_only\"\n",
    "\n",
    "# genotype = \"WT\"\n",
    "# genotype = \"Sham-SQT1\"\n",
    "# genotype = \"UT-SQT1\"\n",
    "genotype = \"SupRep-SQT1\"\n",
    "\n",
    "# animal_id = str(7009)\n",
    "# animal_id = str(6994)\n",
    "# animal_id = str(6999)\n",
    "# animal_id = str(7006)\n",
    "# animal_id = str(7030)\n",
    "# animal_id = str(7024)\n",
    "# animal_id = str(7023)\n",
    "# animal_id = str(6325)\n",
    "# animal_id = str(7028)\n",
    "# animal_id = str(7004)\n",
    "# animal_id = str(7009)\n",
    "animal_id = str(7026)"
   ]
  },
  {
   "cell_type": "markdown",
   "metadata": {},
   "source": [
    "# Create result folders"
   ]
  },
  {
   "cell_type": "code",
   "execution_count": null,
   "metadata": {},
   "outputs": [],
   "source": [
    " \n",
    "# here we create the saving results folder\n",
    "results_folder_name = fr\"M:\\PhD students\\Saranda Nimani\\Optical Mapping\\SQT-SupRep\\APD maps\\{genotype}\\{freq_estim_condition}\\{condition}\\{illumination_type}\\{animal_id}\\{os.path.basename(my_file)}\"\n",
    "# results_folder_name = os.path.basename(my_file)[:8]\n",
    "# results_folder_path = os.path.normpath(fr\"D:\\Sara\\results_{results_folder_name}\\{freq_estim_condition}\\{condition}\\{illumination_type}\")\n",
    "# results_folder_path = os.path.normpath(fr\"{results_folder_name}\\{freq_estim_condition}\\{condition}\\{illumination_type}\")\n",
    "results_folder_path = os.path.normpath(results_folder_name)\n",
    "if not os.path.exists(results_folder_name):\n",
    "    print(f\"Creating Folder: \\n'{results_folder_path}'\\n*Done*.\")\n",
    "    os.makedirs(results_folder_path)\n",
    "else:\n",
    "    print(f\"Folder: \\n'{results_folder_path}'\\nAlready exists\")"
   ]
  },
  {
   "cell_type": "code",
   "execution_count": null,
   "metadata": {},
   "outputs": [],
   "source": [
    "mask_folder = rf\"{results_folder_path}/mask\"\n",
    "if not os.path.exists(mask_folder):\n",
    "    print(f\"Creating Folder: \\n'{mask_folder}'\\n*Done*.\")\n",
    "    os.makedirs(mask_folder)\n",
    "else:\n",
    "    print(f\"Folder: \\n'{mask_folder}'\\nAlready exists\")"
   ]
  },
  {
   "cell_type": "code",
   "execution_count": null,
   "metadata": {},
   "outputs": [],
   "source": [
    "# os.rmdir(mask_folder)\n",
    "# os.rmdir(results_folder_path)"
   ]
  },
  {
   "cell_type": "markdown",
   "metadata": {},
   "source": [
    "# Open File"
   ]
  },
  {
   "cell_type": "code",
   "execution_count": null,
   "metadata": {},
   "outputs": [],
   "source": [
    "try:\n",
    "    viewer.open(path=my_file, plugin= \"napari-omaas\")\n",
    "except Exception as e:\n",
    "    raise CustomException(e, sys)"
   ]
  },
  {
   "cell_type": "markdown",
   "metadata": {},
   "source": [
    "# crop & rotate shape"
   ]
  },
  {
   "cell_type": "code",
   "execution_count": null,
   "metadata": {},
   "outputs": [],
   "source": [
    "\n",
    "my_shape = [np.array([[-27.10448098, 376.83908381],\n",
    "        [-27.10448098,  67.77374194],\n",
    "        [272.08514108,  67.77374194],\n",
    "        [272.08514108, 376.83908381]])]\n",
    "\n",
    "viewer.add_shapes(my_shape)\n",
    "\n",
    "o.rotate_l_crop.setChecked(True)\n",
    "o.crop_from_shape_btn.click() # done\n",
    "\n",
    "# keep only last cropped image for simplicity \n",
    "# del viewer.layers[0]\n",
    "# del viewer.layers[0]"
   ]
  },
  {
   "cell_type": "code",
   "execution_count": null,
   "metadata": {},
   "outputs": [],
   "source": [
    "# this way you recall the shape coordinates information in case is wrong\n",
    "viewer.layers[1].data\n",
    "\n",
    "\n",
    "# remeber to add the np. before the word 'array'\n",
    "\n",
    "# [array([[ 29.27115096, 331.64931142],\n",
    "#         [ 29.27115096, -12.46408488],\n",
    "#         [303.32907977, -12.46408488],\n",
    "#         [303.32907977, 331.64931142]])]"
   ]
  },
  {
   "cell_type": "markdown",
   "metadata": {},
   "source": [
    "# plot profile"
   ]
  },
  {
   "cell_type": "code",
   "execution_count": null,
   "metadata": {},
   "outputs": [],
   "source": [
    "\n",
    "my_shape =[np.array([[128.03402574, 142.83315215],\n",
    "        [128.03402574, 187.82476519],\n",
    "        [178.56426079, 187.82476519],\n",
    "        [178.56426079, 142.83315215]])]\n",
    "\n",
    "\n",
    "viewer.add_shapes(my_shape)\n",
    "\n",
    "o.plot_last_generated_img(shape_indx=1)"
   ]
  },
  {
   "cell_type": "markdown",
   "metadata": {},
   "source": [
    "# clip trace to 10 APs"
   ]
  },
  {
   "cell_type": "code",
   "execution_count": null,
   "metadata": {},
   "outputs": [],
   "source": [
    "# o.double_slider_clip_trace.setValue(clipping_values)\n",
    "o.double_slider_clip_trace.value()"
   ]
  },
  {
   "cell_type": "code",
   "execution_count": null,
   "metadata": {},
   "outputs": [],
   "source": [
    "\n",
    "o.plot_last_generated_img()\n",
    "# clipping_values = (2018.21, 6107.96) # carbachol 2.5hz\n",
    "# clipping_values = (4782.99, 7352.00) # carbacol 4hz\n",
    "\n",
    "\n",
    "\n",
    "\n",
    "# WT\n",
    "\n",
    "# clipping_values = (3303.2163185840714, 5852.111315136477) #control 4Hz red 25.07.24 #6994 WT\n",
    "# clipping_values = (1652.8864019851117, 5777.656972704715) #carbachol 2.5Hz red 25.07.24 #6994 WT\n",
    "\n",
    "# clipping_values =  (96.32776612903227, 2652.7391364764267)  #control 4Hz red 30.07.24 #6999 WT *red only*\n",
    "# clipping_values =  (944.7604466501242, 5446.266104218363)  #carbachol 2.5Hz red 30.07.24 #6999 WT *red only*\n",
    "\n",
    "# clipping_values =  (924.7614991482112, 5047.656516183986)  #control 4Hz 25.09.24 #7006 WT *red only*\n",
    "# clipping_values =  (924.7614991482112, 5047.656516183986)  #control 4Hz 25.09.24 #7006 WT *red only*\n",
    "\n",
    "# clipping_values = (2344.0200744416875, 6460.762222222223) #control 4Hz 07.11.24 #7030 WT *red only*\n",
    "# clipping_values = (2717.657325495959, 5244.289681139756) #carbachol 2.5Hz 07.11.24 #7030 WT *red only*\n",
    "\n",
    "\n",
    "# Sham-SQT1\n",
    "\n",
    "# clipping_values = (3700.5147771696643, 6254.6744331509) #control 4Hz 07.08.24 #7024 Sham-SQT1 *red only*\n",
    "# clipping_values = (2058.446277915633, 6191.2957816377175) #carbachol 2.5Hz 07.08.24 #7024 Sham-SQT1 *red only*\n",
    "\n",
    "\n",
    "# clipping_values = (4996.884671232876, 7540.430413346614)  #control 4Hz 10.10.24 #6325 UT-SQT1 *red only*\n",
    "# clipping_values = (1966.0700366300366, 6079.546666666667) #carbachol 2.5Hz 10.10.24 #6325 UT-SQT1 *red only*\n",
    "\n",
    "# clipping_values = (1840.10659030837, 4400.2548898678415) #control 4Hz 07.11.24 #7028 UT-SQT1 *red only*\n",
    "# clipping_values = (2247.65495049505, 6381.734591584159)  #carbachol 2.5Hz 07.11.24 #7028 UT-SQT1 *red only*\n",
    "\n",
    "\n",
    "# SupRep-SQT1\n",
    "\n",
    "# clipping_values = (2380.1449227373073, 4930.638189845475) #control 4Hz 09.09.24 #7004 SupRep-SQT1 *red only*\n",
    "# clipping_values =  (1860.8840659340663, 5958.3243424317625) #carbachol 2.5Hz 09.09.24 #7004 SupRep-SQT1\n",
    "\n",
    "# clipping_values =  (4185.300073260072, 6756.776813186812) #control 4Hz 09.10.24 #7009 SupRep-SQT1 *red only*\n",
    "# clipping_values =  (2846.358736263736, 6971.361113553113) #carbachol 2.5Hz 09.10.24 #7009 SupRep-SQT1\n",
    "\n",
    "# clipping_values =  (1980.5472972972975, 4552.6180540540545) #control 4Hz 11.10.24 #7026 SupRep-SQT1 *red only*\n",
    "clipping_values = (166.80500248138947, 4596.835533498759)  #carbachol 2.5Hz 11.10.24 #7026 SupRep-SQT1 *red only*\n",
    "\n",
    "\n",
    "o.plot_last_generated_img()\n",
    "# clipping_values = (2018.21, 6107.96) # carbachol 2.5hz\n",
    "# clipping_values = (4782.99, 7352.00) # carbacol 4hz\n",
    "\n",
    "\n",
    "\n",
    "\n",
    "\n",
    "\n",
    "\n",
    "\n",
    "#  UT-SQT1\n",
    "\n",
    "# clipping_values = (1627.6070099255585, 5724.686724565757) #control 4Hz red 07.08.24 #7023 UT-SQT1\n",
    "# clipping_values = (1598.8984312946784, 5736.8715250198575) #carbachol 2.5Hz red 07.08.24 #7023 UT-SQT1\n",
    "\n",
    "o.is_range_clicked_checkbox.setChecked(True)\n",
    "o.double_slider_clip_trace.setValue(clipping_values)\n",
    "o.clip_trace_btn.click() \n",
    "\n",
    "\n"
   ]
  },
  {
   "cell_type": "markdown",
   "metadata": {},
   "source": [
    "# apply motion correction"
   ]
  },
  {
   "cell_type": "code",
   "execution_count": null,
   "metadata": {},
   "outputs": [],
   "source": [
    "\n",
    "curr_imag = viewer.layers[-1]\n",
    "viewer.layers.selection.active = curr_imag\n",
    "\n",
    "contrast_kernel = 3\n",
    "ref_frame = 10\n",
    "o.pre_smooth_temp.setValue(1)\n",
    "o.pre_smooth_spat.setValue(1) \n",
    "o.c_kernels.setValue(contrast_kernel)\n",
    "o.ref_frame_val.setText(str(ref_frame))\n",
    "\n",
    "o.apply_optimap_mot_corr_btn.click()\n"
   ]
  },
  {
   "cell_type": "code",
   "execution_count": null,
   "metadata": {},
   "outputs": [],
   "source": [
    "# del viewer.layers[0]\n",
    "# del viewer.layers[0]\n",
    "# o.plot_last_generated_img()"
   ]
  },
  {
   "cell_type": "markdown",
   "metadata": {},
   "source": [
    "# inv and normalize"
   ]
  },
  {
   "cell_type": "code",
   "execution_count": null,
   "metadata": {},
   "outputs": [],
   "source": [
    "# Using slide window method for normalization to detrend the signal\n",
    "o.data_normalization_options.setCurrentText(\"Slide window\")\n",
    "o.slide_wind_n.setValue(200)\n",
    "# o.data_normalization_options.setCurrentText(\"Local max\") # Note: Use when stable traces or when \"Slide window\" is creating artifacts\n",
    "o.inv_and_norm_data_btn.click()\n",
    "\n",
    "o.plot_last_generated_img(shape_indx=1)"
   ]
  },
  {
   "cell_type": "code",
   "execution_count": null,
   "metadata": {},
   "outputs": [],
   "source": [
    "# o.apply_normalization_btn.click()"
   ]
  },
  {
   "cell_type": "markdown",
   "metadata": {},
   "source": [
    "# Apply spatial and temporal filters"
   ]
  },
  {
   "cell_type": "code",
   "execution_count": null,
   "metadata": {},
   "outputs": [],
   "source": [
    "\n",
    "\n",
    "o.spat_filter_types.setCurrentText(\"Median\")\n",
    "o.apply_spat_filt_btn.click()\n",
    "# del viewer.layers[1]\n",
    "\n"
   ]
  },
  {
   "cell_type": "code",
   "execution_count": null,
   "metadata": {},
   "outputs": [],
   "source": [
    "o.apply_temp_filt_btn.click()\n",
    "# del viewer.layers[1]\n",
    "\n",
    "# o.plot_last_generated_img()"
   ]
  },
  {
   "cell_type": "code",
   "execution_count": null,
   "metadata": {},
   "outputs": [],
   "source": [
    "o.plot_last_generated_img(shape_indx=1)"
   ]
  },
  {
   "cell_type": "markdown",
   "metadata": {},
   "source": [
    "# Segment Image"
   ]
  },
  {
   "cell_type": "code",
   "execution_count": null,
   "metadata": {},
   "outputs": [],
   "source": [
    "mask_file_path = rf\"{mask_folder}\\Heart_labels_NullBckgrnd.tif\""
   ]
  },
  {
   "cell_type": "code",
   "execution_count": null,
   "metadata": {},
   "outputs": [],
   "source": [
    "# use another image layer to create mask, then use that mask to to apply segmentation to last layer\n",
    "\n",
    "viewer.layers.selection.active = viewer.layers[5] # take the ratio image normalized\n",
    "o.return_img_no_backg_btn.setChecked(False)\n",
    "# o.return_img_no_backg_btn.setChecked(True)\n",
    "o.apply_auto_segmentation_btn.click()\n",
    "viewer.layers.select_previous()\n",
    "o.apply_manual_segmentation_btn.click() # done\n",
    "\n",
    "\n"
   ]
  },
  {
   "cell_type": "code",
   "execution_count": null,
   "metadata": {},
   "outputs": [],
   "source": [
    "# save Mask if newly created\n",
    "try:\n",
    "    print(f\"Saving mask to: \\n'{mask_file_path}'\\n*Done*.\")\n",
    "    viewer.layers[-1].save(mask_file_path)\n",
    "except Exception as e:\n",
    "    CustomException(e, sys)"
   ]
  },
  {
   "cell_type": "code",
   "execution_count": null,
   "metadata": {},
   "outputs": [],
   "source": [
    "curr_imag = viewer.layers[-1]\n",
    "\n",
    "\n",
    "try:\n",
    "    viewer.open(mask_file_path)\n",
    "except Exception as e:\n",
    "    CustomException(e, sys)\n",
    "\n",
    "viewer.layers.selection.active = curr_imag\n",
    "o.apply_manual_segmentation_btn.click() # done\n",
    "# dont forget to change mask folder!"
   ]
  },
  {
   "cell_type": "markdown",
   "metadata": {},
   "source": [
    "# Average APs"
   ]
  },
  {
   "cell_type": "code",
   "execution_count": null,
   "metadata": {},
   "outputs": [],
   "source": [
    "\n",
    "# del viewer.layers[0]\n",
    "my_shape = [np.array([[136.79882203, 101.27454257],\n",
    "        [136.79882203, 168.68341024],\n",
    "        [205.2137922 , 168.68341024],\n",
    "        [205.2137922 , 101.27454257]])]\n",
    "\n",
    "viewer.add_shapes(my_shape)\n",
    "o.plot_last_generated_img(shape_indx=2)\n",
    "\n",
    "# preview AP splitting results\n",
    "o.tabs.setCurrentIndex(3)\n",
    "o.preview_AP_splitted_btn.click()\n",
    "\n",
    "\n"
   ]
  },
  {
   "cell_type": "code",
   "execution_count": null,
   "metadata": {},
   "outputs": [],
   "source": [
    "# create average from splitted APs\n",
    "o.create_average_AP_btn.click()\n",
    "o.plot_last_generated_img(shape_indx=2)\n",
    "o.preview_AP_splitted_btn.click()\n",
    "\n"
   ]
  },
  {
   "cell_type": "code",
   "execution_count": null,
   "metadata": {},
   "outputs": [],
   "source": [
    "# Save averaged image\n",
    "# o.save_img_dir_box_text.setText(results_folder_path)\n",
    "# # for value in [-1]:\n",
    "# for value in [-1, -2]:\n",
    "#     viewer.layers.selection.active = viewer.layers[value]\n",
    "#     o.export_image_btn.click()"
   ]
  },
  {
   "cell_type": "markdown",
   "metadata": {},
   "source": [
    "# Compute APD maps"
   ]
  },
  {
   "cell_type": "code",
   "execution_count": null,
   "metadata": {},
   "outputs": [],
   "source": [
    "o.tabs.setCurrentIndex(3)\n",
    "thresh_value = o.slider_APD_detection_threshold.value() * 0.0001\n",
    "thresh_value"
   ]
  },
  {
   "cell_type": "code",
   "execution_count": null,
   "metadata": {},
   "outputs": [],
   "source": [
    "# thresh_value = 0.0146 #control 4Hz 30.07.24\n",
    "# thresh_value = 0.0859 #carbachol 2.5Hz 30.07.24\n",
    "# thresh_value = 0.0121 #control 4Hz 09.09.24 \n",
    "# thresh_value = 0.0792 #carbachol 2.5Hz 09.09.24\n",
    "# thresh_value = 0.0636 #control 4Hz 09.09.24\n",
    "# thresh_value = 0.0146 #carbachol 2.5Hz 09.09.24\n",
    "\n",
    "# thresh_value = 0.0146 #control 4Hz and 2.5Hz 30.07.24 and #carbachol 2.5Hz 29.08.24\n",
    "# thresh_value = 0.0046 #control 4Hz 09.09.24 and 4Hz 29.08.24\n",
    "\n",
    "# thresh_value = 0.05 #control 4Hz 09.10.24,, 4Hz and 2.5 11.10.24, 4Hz and 2.5Hz 18.10.24\n",
    "\n",
    "# thresh_value = 0.0777 #control 4Hz 25.09.24, 2.5Hz, 4Hz control WT\n",
    "\n",
    "o.slider_APD_detection_threshold.setValue(int(thresh_value * 10000))"
   ]
  },
  {
   "cell_type": "code",
   "execution_count": null,
   "metadata": {},
   "outputs": [],
   "source": [
    "\n",
    "# o.plot_last_generated_img()\n",
    "# o.preview_AP_splitted_btn.click()\n",
    "target_image = viewer.layers[-1]\n",
    "# image_stack = target_image.data\n",
    "# for value in [75, 90]:\n",
    "for value in [ 90]:\n",
    "    viewer.layers.selection.active = target_image\n",
    "    o.slider_APD_map_percentage.setValue(value)\n",
    "    o.toggle_map_type.setChecked(True)\n",
    "    o.make_maps_btn.click()\n"
   ]
  },
  {
   "cell_type": "markdown",
   "metadata": {},
   "source": [
    "# save maps"
   ]
  },
  {
   "cell_type": "code",
   "execution_count": null,
   "metadata": {},
   "outputs": [],
   "source": [
    "#  Here we export last 3 images\n",
    "o.save_img_dir_box_text.setText(results_folder_path)\n",
    "# for value in [-1]:\n",
    "for value in [-1, -2, -3, -4]:\n",
    "    viewer.layers.selection.active = viewer.layers[value]\n",
    "    o.export_image_btn.click()"
   ]
  },
  {
   "cell_type": "code",
   "execution_count": null,
   "metadata": {},
   "outputs": [],
   "source": []
  }
 ],
 "metadata": {
  "kernelspec": {
   "display_name": "Python 3",
   "language": "python",
   "name": "python3"
  },
  "language_info": {
   "codemirror_mode": {
    "name": "ipython",
    "version": 3
   },
   "file_extension": ".py",
   "mimetype": "text/x-python",
   "name": "python",
   "nbconvert_exporter": "python",
   "pygments_lexer": "ipython3",
   "version": "3.11.9"
  }
 },
 "nbformat": 4,
 "nbformat_minor": 2
}
