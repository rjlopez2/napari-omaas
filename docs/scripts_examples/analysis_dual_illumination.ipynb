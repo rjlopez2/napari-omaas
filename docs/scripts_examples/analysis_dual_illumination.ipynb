{
 "cells": [
  {
   "cell_type": "markdown",
   "metadata": {},
   "source": [
    "```{currentmodule} optimap\n",
    "```"
   ]
  },
  {
   "cell_type": "markdown",
   "metadata": {},
   "source": [
    "```{tip}\n",
    "Download this tutorial as a {download}`Jupyter notebook <converted/analysis_dual_illumination.ipynb>`, or as a {download}`python script <converted/analysis_dual_illumination.py>` with code cells. We highly recommend using [Visual Studio Code](https://code.visualstudio.com/) to execute this tutorial. Alternatively, you could run the Python script in a terminal with ``python analysis_dual_illumination.py`` from the folder where the file is located.\n",
    "```"
   ]
  },
  {
   "cell_type": "markdown",
   "metadata": {},
   "source": [
    "# Full analysis with dual illumination (RED and BLUE light)"
   ]
  },
  {
   "cell_type": "code",
   "execution_count": null,
   "metadata": {},
   "outputs": [],
   "source": [
    "%load_ext autoreload\n",
    "%autoreload 2"
   ]
  },
  {
   "cell_type": "code",
   "execution_count": null,
   "metadata": {},
   "outputs": [],
   "source": [
    "import napari\n",
    "import napari_omaas\n",
    "from napari_omaas import utils\n",
    "import numpy as np\n",
    "from napari_omaas.custom_exceptions import CustomException\n",
    "import sys\n",
    "import os"
   ]
  },
  {
   "cell_type": "code",
   "execution_count": null,
   "metadata": {},
   "outputs": [],
   "source": [
    "viewer = napari.Viewer(show=False)\n",
    "o = napari_omaas.OMAAS(viewer)\n",
    "viewer.window.add_dock_widget(o, area='right')"
   ]
  },
  {
   "cell_type": "code",
   "execution_count": null,
   "metadata": {},
   "outputs": [],
   "source": [
    "\n",
    "# my_file = r\"M:\\OM_data_Bern\\raw_data\\2024\\20243007\\Videosdata\\20243007_12h-37m-27\" #control 4Hz dual 30.07.24 #6999 WT *done*\n",
    "# my_file = r\"M:\\OM_data_Bern\\raw_data\\2024\\20243007\\Videosdata\\20243007_13h-07m-27\" #carbachol 2.5Hz dual 30.07.24 #6999 WT *done*\n",
    "\n",
    "# my_file = r\"M:\\OM_data_Bern\\raw_data\\2024\\20240909\\Videosdata\\20240909_11h-44m-04\" #control 4Hz dual 09.09.24 #7004 Suprep-SQT1 *done*\n",
    "# my_file = r\"M:\\OM_data_Bern\\raw_data\\2024\\20240909\\Videosdata\\20240909_11h-58m-25\" #carbachol 2.5Hz dual 09.09.24 #7004 Suprep-SQT1 *done*\n",
    "\n",
    "# my_file = r\"M:\\OM_data_Bern\\raw_data\\2024\\20242908\\Videosdata\\20242908_11h-59m-21\" #control 4Hz dual 29.08.24 #7024 Sham-SQT1 *done*\n",
    "# my_file = r\"M:\\OM_data_Bern\\raw_data\\2024\\20242908\\Videosdata\\20242908_12h-19m-07\" #carbachol 2.5Hz dual 29.08.24 #7024 Sham-SQT1 *done*\n",
    "\n",
    "# my_file = r\"M:\\OM_data_Bern\\raw_data\\2024\\20242509\\Videosdata\\Animal_7006\\20242509_11h-02m-40\" #control 4Hz dual 25.09.24  #7006 WT *done* \n",
    "# my_file = r\"M:\\OM_data_Bern\\raw_data\\2024\\20242509\\Videosdata\\Animal_7006\\20242509_11h-22m-06\" #carbachol 2.5Hz dual 25.09.24  #7006 WT *done*\n",
    "\n",
    "# my_file = r\"M:\\OM_data_Bern\\raw_data\\2024\\20240910\\Videosdata\\20240910_11h-21m-13\" #control 4Hz dual 09.10.24  #7009 SupRep-SQT1 *done*\n",
    "my_file = r\"M:\\OM_data_Bern\\raw_data\\2024\\20240910\\Videosdata\\20240910_11h-42m-17\" #carbachol 2.5Hz dual 09.10.24  #7009 SupRep-SQT1 *done*\n",
    "\n",
    "# my_file = r\"M:\\OM_data_Bern\\raw_data\\2024\\20241110\\Videosdata\\20241110_12h-06m-53\" #control 4Hz dual 11.10.24  #7026 SupRep-SQT1 *done*\n",
    "# my_file = r\"M:\\OM_data_Bern\\raw_data\\2024\\20241110\\Videosdata\\20241110_12h-20m-55\" #carbachol 2.5Hz dual 11.10.24  #7026 SupRep-SQT1 *done*\n",
    "\n",
    "# my_file = r\"M:\\OM_data_Bern\\raw_data\\2024\\20241810\\Videosdata\\20241810_13h-48m-51\" #control 4Hz dual 18.10.24 #6352 UT-SQT1 *done*\n",
    "# my_file = r\"M:\\OM_data_Bern\\raw_data\\2024\\20241810\\Videosdata\\20241810_14h-20m-23\" #carbachol 2.5Hz dual 18.10.24 #6352 UT-SQT1 *done*\n",
    "\n",
    "# my_file = r\"M:\\OM_data_Bern\\raw_data\\2024\\20242509\\Videosdata\\Animal_7008\\20242509_15h-51m-01\" #control 4Hz dual 25.09.24  #7008 WT *done* *wrong file was chosen, correct file in the line below* \n",
    "# my_file = r\"M:\\OM_data_Bern\\raw_data\\2024\\20242509\\Videosdata\\Animal_7008\\20242509_15h-55m-04\" #control 4Hz dual 25.09.24  #7008 WT *to be done* *correct file*  this is red????\n",
    "\n",
    "# my_file = r\"M:\\OM_data_Bern\\raw_data\\2024\\20242509\\Videosdata\\Animal_7008\\20242509_15h-55m-48\" #control 4Hz dual 25.09.24  #7008 WT * done* *correct file* is this red????\n",
    "# my_file = r\"M:\\OM_data_Bern\\raw_data\\2024\\20242509\\Videosdata\\Animal_7008\\20242509_16h-12m-51\" #carbachol 2.5Hz dual 25.09.24  #7008 WT * done*\n",
    "\n",
    "\n",
    "# my_file = r\"M:\\OM_data_Bern\\raw_data\\2024\\20242507\\Videosdata\\20242507_11h-50m-54\" #control 4Hz red 25.07.24 #6994 WT *to be done* *red only*\n",
    "# my_file = r\"M:\\OM_data_Bern\\raw_data\\2024\\20242507\\Videosdata\\20242507_12h-47m-42\" #carbachol 2.5Hz red 25.07.24 #6994 WT *to be done* *red only*\n",
    "\n",
    "# my_file = r\"M:\\OM_data_Bern\\raw_data\\2024\\20240708\\Videosdata\\20240708_11h-39m-24\" #control 4Hz red 07.08.24 #7023 UT-SQT1 *to be done* *red only*\n",
    "# my_file = r\"M:\\OM_data_Bern\\raw_data\\2024\\20240708\\Videosdata\\20240708_12h-00m-09\" #carbachol 2.5Hz red 07.08.24 #7023 UT-SQT1 *to be done* *red only*\n"
   ]
  },
  {
   "cell_type": "markdown",
   "metadata": {},
   "source": [
    "## define the experiment conditions"
   ]
  },
  {
   "cell_type": "code",
   "execution_count": null,
   "metadata": {},
   "outputs": [],
   "source": [
    "os.path.basename(my_file)[:8]\n",
    "\n",
    "\n",
    "freq_estim_condition = \"2.5Hz\"\n",
    "# freq_estim_condition = \"4Hz\"\n",
    "\n",
    "# condition = \"control\"\n",
    "condition = \"carbachol\"\n",
    "\n",
    "illumination_type = \"dual_illumination\"\n",
    "# illumination_type = \"red_only\"\n",
    "\n",
    "# genotype = \"WT\"\n",
    "# genotype = \"UT-SQT1\"\n",
    "genotype = \"SupRep-SQT1\"\n",
    "# genotype = \"Sham-SQT1\"\n",
    "\n",
    "animal_id = str(7009)"
   ]
  },
  {
   "cell_type": "code",
   "execution_count": null,
   "metadata": {},
   "outputs": [],
   "source": [
    " \n",
    "# here we create the saving results folder\n",
    "results_folder_name = fr\"APD maps\\{genotype}\\{freq_estim_condition}\\{condition}\\{illumination_type}\\{animal_id}\\{os.path.basename(my_file)}\"\n",
    "# results_folder_name = os.path.basename(my_file)[:8]\n",
    "# results_folder_path = os.path.normpath(fr\"D:\\Sara\\results_{results_folder_name}\\{freq_estim_condition}\\{condition}\\{illumination_type}\")\n",
    "# results_folder_path = os.path.normpath(fr\"{results_folder_name}\\{freq_estim_condition}\\{condition}\\{illumination_type}\")\n",
    "results_folder_path = os.path.normpath(results_folder_name)\n",
    "if not os.path.exists(results_folder_name):\n",
    "    print(f\"Creating Folder: \\n'{results_folder_path}'\\n*Done*.\")\n",
    "    os.makedirs(results_folder_path)\n",
    "else:\n",
    "    print(f\"Folder: \\n'{results_folder_path}'\\nAlready exists\")"
   ]
  },
  {
   "cell_type": "code",
   "execution_count": null,
   "metadata": {},
   "outputs": [],
   "source": [
    "mask_folder = rf\"{results_folder_path}/mask\"\n",
    "if not os.path.exists(mask_folder):\n",
    "    print(f\"Creating Folder: \\n'{mask_folder}'\\n*Done*.\")\n",
    "    os.makedirs(mask_folder)\n",
    "else:\n",
    "    print(f\"Folder: \\n'{mask_folder}'\\nAlready exists\")"
   ]
  },
  {
   "cell_type": "markdown",
   "metadata": {},
   "source": [
    "## Open File"
   ]
  },
  {
   "cell_type": "code",
   "execution_count": null,
   "metadata": {},
   "outputs": [],
   "source": [
    "try:\n",
    "    # viewer.open(path=my_file, plugin= \"napari-omaas\")\n",
    "    viewer.open_sample('napari-omaas', 'heart_sample_3mi')\n",
    "except Exception as e:\n",
    "    raise CustomException(e, sys)"
   ]
  },
  {
   "cell_type": "markdown",
   "metadata": {},
   "source": [
    "## crop & rotate shape"
   ]
  },
  {
   "cell_type": "code",
   "execution_count": null,
   "metadata": {},
   "outputs": [],
   "source": [
    "# this shape works for the experiment of 30.07.2024\n",
    "# this shape works for the experiment of 09.09.2024\n",
    "# this shape works for the experiment of 29.08.2024\n",
    "# manual crop for 4Hz and 2.5Hz of 11.10.24\n",
    "\n",
    "\n",
    "my_shape =[np.array([[ -0.85783728, 301.33125825],\n",
    "        [ -0.85783728,  -1.8416859 ],\n",
    "        [273.20009153,  -1.8416859 ],\n",
    "        [273.20009153, 301.33125825]])]\n",
    "\n",
    "viewer.add_shapes(my_shape)\n",
    "\n",
    "o.rotate_l_crop.setChecked(True)\n",
    "o.crop_from_shape_btn.click() # done\n",
    "\n",
    "# keep only last cropped image for simplicity \n",
    "# del viewer.layers[0]\n",
    "# del viewer.layers[0]"
   ]
  },
  {
   "cell_type": "code",
   "execution_count": null,
   "metadata": {},
   "outputs": [],
   "source": [
    "# this way you recall the shape coordinates information in case is wrong\n",
    "# viewer.layers[1].data\n",
    "# remeber to add the np. before the word 'array'\n",
    "\n",
    "# [array([[ 29.27115096, 331.64931142],\n",
    "#         [ 29.27115096, -12.46408488],\n",
    "#         [303.32907977, -12.46408488],\n",
    "#         [303.32907977, 331.64931142]])]"
   ]
  },
  {
   "cell_type": "markdown",
   "metadata": {},
   "source": [
    "## plot profile"
   ]
  },
  {
   "cell_type": "code",
   "execution_count": null,
   "metadata": {},
   "outputs": [],
   "source": [
    "\n",
    "my_shape =[np.array([[128.03402574, 142.83315215],\n",
    "        [128.03402574, 187.82476519],\n",
    "        [178.56426079, 187.82476519],\n",
    "        [178.56426079, 142.83315215]])]\n",
    "\n",
    "\n",
    "viewer.add_shapes(my_shape)\n",
    "\n",
    "o.plot_last_generated_img(shape_indx=1)"
   ]
  },
  {
   "cell_type": "markdown",
   "metadata": {},
   "source": [
    "## clip trace to 10 APs"
   ]
  },
  {
   "cell_type": "code",
   "execution_count": null,
   "metadata": {},
   "outputs": [],
   "source": [
    "# o.double_slider_clip_trace.setValue(clipping_values)\n",
    "o.double_slider_clip_trace.value()"
   ]
  },
  {
   "cell_type": "code",
   "execution_count": null,
   "metadata": {},
   "outputs": [],
   "source": [
    "\n",
    "# o.plot_last_generated_img()\n",
    "# clipping_values = (100, 2665.21) # control 4Hz 30.07.24 and 09.09.24\n",
    "# clipping_values = (3660.41,  6188.52) # control 4Hz 29.08.24\n",
    "# clipping_values = (1300.80, 5448.28) # carbachol 2.5Hz 30.07.24\n",
    "# clipping_values = (1818.77, 5954.31) # carbachol 2.5Hz 9.09.24\n",
    "# clipping_values = (?, ?) # carbachol 2.5Hz 9.09.24\n",
    "# clipping_values = (1572.80, 4091.52) # control 4Hz 25.09.24 7006\n",
    "# clipping_values = (2834.49, 7009.11) # control 4Hz 25.09.24 7006\n",
    "# clipping_values = (1477.67, 4018.54) # control 4Hz 09.10.24 7009\n",
    "clipping_values = (1189.73, 5254.31) # carbachol 2.5Hz 09.10.24 7009\n",
    "# clipping_values = (100.99, 2625.72) # control 4Hz 11.10.24 7026\n",
    "# clipping_values = (1514.8372093023258, 5675.59007751938) # carbachol 2.5Hz 11.10.24 7026\n",
    "# clipping_values = (2443.9373643410854, 5009.061705426357) # control 4Hz 18.10.24 6352\n",
    "# clipping_values = (2443.9373643410854, 5009.061705426357) # carbachol 2.5Hz 18.10.24 6352\n",
    "\n",
    "# clipping_values = (1636.0241860465119, 5655.392248062016) \n",
    "# clipping_values = (1821.2255956320319, 4420.838021178028) # control 4Hz 25.09.24  #7008 WT\n",
    "# clipping_values = (1603.2004310344828, 5762.855603448276) # carbachol 2.5Hz dual 25.09.24  #7008 WT\n",
    "\n",
    "o.is_range_clicked_checkbox.setChecked(True)\n",
    "o.double_slider_clip_trace.setValue(clipping_values)\n",
    "o.clip_trace_btn.click() \n",
    "o.plot_last_generated_img(shape_indx=1)\n",
    "\n",
    "# del viewer.layers[0]\n",
    "\n"
   ]
  },
  {
   "cell_type": "markdown",
   "metadata": {},
   "source": [
    "## Split channels\n",
    "(if using dual illumination)"
   ]
  },
  {
   "cell_type": "code",
   "execution_count": null,
   "metadata": {},
   "outputs": [],
   "source": [
    "o.split_chann_btn.click()\n"
   ]
  },
  {
   "cell_type": "code",
   "execution_count": null,
   "metadata": {},
   "outputs": [],
   "source": [
    "o.plot_last_generated_img()"
   ]
  },
  {
   "cell_type": "markdown",
   "metadata": {},
   "source": [
    "## apply motion correction per channel\n"
   ]
  },
  {
   "cell_type": "code",
   "execution_count": null,
   "metadata": {},
   "outputs": [],
   "source": [
    "channels = [layer for layer in viewer.layers if \"Ch\" in layer.name]\n",
    "\n",
    "# ref_frame = 23 # NOTE: experiment 20242509_15h-55m-48\" #control 4Hz dual 25.09.24  #7008 WT shows still motion artifact that could not be corrected at the apex right region.\n",
    "ref_frame = 1\n",
    "\n",
    "for channel in channels:\n",
    "    viewer.layers.selection.active = channel\n",
    "    contrast_kernel = 3\n",
    "\n",
    "    o.pre_smooth_temp.setValue(1) # \n",
    "    o.pre_smooth_spat.setValue(1) #\n",
    "    o.c_kernels.setValue(contrast_kernel)\n",
    "    o.ref_frame_val.setText(str(ref_frame))\n",
    "\n",
    "    o.apply_optimap_mot_corr_btn.click()\n",
    "    "
   ]
  },
  {
   "cell_type": "markdown",
   "metadata": {},
   "source": [
    "## Compute ratio"
   ]
  },
  {
   "cell_type": "code",
   "execution_count": null,
   "metadata": {},
   "outputs": [],
   "source": [
    "# get names of the current images in the ratio selector widget\n",
    "MOtStab_layers = [o.Ch1_ratio.itemText(i) for i in range(o.Ch1_ratio.count()) if \"MotStab\" in o.Ch1_ratio.itemText(i)]\n",
    "MOtStab_layers\n"
   ]
  },
  {
   "cell_type": "code",
   "execution_count": null,
   "metadata": {},
   "outputs": [],
   "source": [
    "o.Ch0_ratio.setCurrentText(MOtStab_layers[0])\n",
    "o.Ch1_ratio.setCurrentText(MOtStab_layers[1])\n",
    "\n",
    "# o.is_ratio_inverted.setChecked(True)\n",
    "o.compute_ratio_btn.click() \n",
    "# o.plot_last_generated_img(shape_indx=1)"
   ]
  },
  {
   "cell_type": "markdown",
   "metadata": {},
   "source": [
    "## Normalize ratio\n",
    "\n",
    "this is giving funny results, need to check it out in detail"
   ]
  },
  {
   "cell_type": "code",
   "execution_count": null,
   "metadata": {},
   "outputs": [],
   "source": [
    "# viewer.layers.selection.active = channel\n",
    "# o.data_normalization_options.setCurrentText(\"Global\")\n",
    "o.data_normalization_options.setCurrentText(\"Local max\")\n",
    "# o.data_normalization_options.setCurrentText(\"Slide window\")\n",
    "# o.slide_wind_n.setValue(100)\n",
    "o.apply_normalization_btn.click()\n",
    "# o.inv_and_norm_data_btn.click()   \n"
   ]
  },
  {
   "cell_type": "markdown",
   "metadata": {},
   "source": [
    "## Apply spatial and temporal filters"
   ]
  },
  {
   "cell_type": "code",
   "execution_count": null,
   "metadata": {},
   "outputs": [],
   "source": [
    "\n",
    "\n",
    "# o.spat_filter_types.setCurrentText(\"Gaussian\")\n",
    "o.spat_filter_types.setCurrentText(\"Median\")\n",
    "o.apply_spat_filt_btn.click()\n",
    "# del viewer.layers[1]\n",
    "\n"
   ]
  },
  {
   "cell_type": "code",
   "execution_count": null,
   "metadata": {},
   "outputs": [],
   "source": [
    "o.apply_temp_filt_btn.click()\n",
    "# del viewer.layers[1]\n",
    "\n",
    "# o.plot_last_generated_img()"
   ]
  },
  {
   "cell_type": "code",
   "execution_count": null,
   "metadata": {},
   "outputs": [],
   "source": [
    "o.plot_last_generated_img(shape_indx=1)"
   ]
  },
  {
   "cell_type": "markdown",
   "metadata": {},
   "source": [
    "## Segment Image"
   ]
  },
  {
   "cell_type": "code",
   "execution_count": null,
   "metadata": {},
   "outputs": [],
   "source": [
    "# use another image layer to create mask, then use that mask to to apply segmentation to last layer\n",
    "\n",
    "# viewer.layers.selection.active = viewer.layers[8] # take the ratio image normalized\n",
    "# o.return_img_no_backg_btn.setChecked(False)\n",
    "# o.return_img_no_backg_btn.setChecked(True)\n",
    "# o.apply_auto_segmentation_btn.click()\n",
    "# viewer.layers.select_previous()\n",
    "# o.apply_manual_segmentation_btn.click() # done\n",
    "\n"
   ]
  },
  {
   "cell_type": "code",
   "execution_count": null,
   "metadata": {},
   "outputs": [],
   "source": [
    "# viewer.layers.selection.active = viewer.layers[2]\n",
    "# o.return_img_no_backg_btn.setChecked(False)\n",
    "# o.apply_auto_segmentation_btn.click()\n"
   ]
  },
  {
   "cell_type": "code",
   "execution_count": null,
   "metadata": {},
   "outputs": [],
   "source": [
    "curr_imag = viewer.layers[-1]\n",
    "\n",
    "mask_file_path = rf\"{mask_folder}\\Heart_labels_NullBckgrnd.tif\"\n",
    "try:\n",
    "    viewer.open(mask_file_path)\n",
    "except Exception as e:\n",
    "    CustomException(e, sys)\n",
    "\n",
    "viewer.layers.selection.active = curr_imag\n",
    "o.apply_manual_segmentation_btn.click() # done\n",
    "# dont forget to change mask folder!"
   ]
  },
  {
   "cell_type": "markdown",
   "metadata": {},
   "source": [
    "## Average APs"
   ]
  },
  {
   "cell_type": "code",
   "execution_count": null,
   "metadata": {},
   "outputs": [],
   "source": [
    "\n",
    "# add new shape and plot it\n",
    "my_shape = [np.array([[186.30554317, 126.00001115],\n",
    "        [186.30554317, 172.31026001],\n",
    "        [234.54960277, 172.31026001],\n",
    "        [234.54960277, 126.00001115]])]\n",
    "\n",
    "viewer.add_shapes(my_shape)\n",
    "o.plot_last_generated_img(shape_indx=1)\n",
    "\n",
    "# preview AP splitting results\n",
    "o.tabs.setCurrentIndex(3)\n",
    "o.preview_AP_splitted_btn.click()\n"
   ]
  },
  {
   "cell_type": "code",
   "execution_count": null,
   "metadata": {},
   "outputs": [],
   "source": [
    "# create average from splitted APs\n",
    "o.create_average_AP_btn.click()\n",
    "o.plot_last_generated_img(shape_indx=1)\n",
    "o.preview_AP_splitted_btn.click()\n",
    "\n"
   ]
  },
  {
   "cell_type": "code",
   "execution_count": null,
   "metadata": {},
   "outputs": [],
   "source": [
    "# Save averaged image\n",
    "o.save_img_dir_box_text.setText(results_folder_path)\n",
    "for value in [-1]:\n",
    "# for value in [-1, -2]:\n",
    "    viewer.layers.selection.active = viewer.layers[value]\n",
    "    o.export_image_btn.click()"
   ]
  },
  {
   "cell_type": "markdown",
   "metadata": {},
   "source": [
    "## Compute APD maps"
   ]
  },
  {
   "cell_type": "code",
   "execution_count": null,
   "metadata": {},
   "outputs": [],
   "source": [
    "o.tabs.setCurrentIndex(3)\n",
    "thresh_value = o.slider_APD_detection_threshold.value() * 0.0001\n",
    "thresh_value"
   ]
  },
  {
   "cell_type": "code",
   "execution_count": null,
   "metadata": {},
   "outputs": [],
   "source": [
    "# thresh_value = 0.0146 #control 4Hz 30.07.24\n",
    "# thresh_value = 0.0859 #carbachol 2.5Hz 30.07.24\n",
    "# thresh_value = 0.0121 #control 4Hz 09.09.24 \n",
    "# thresh_value = 0.0792 #carbachol 2.5Hz 09.09.24\n",
    "# thresh_value = 0.0636 #control 4Hz 09.09.24\n",
    "# thresh_value = 0.0146 #carbachol 2.5Hz 09.09.24\n",
    "\n",
    "# thresh_value = 0.0146 #control 4Hz and 2.5Hz 30.07.24 and #carbachol 2.5Hz 29.08.24\n",
    "# thresh_value = 0.0046 #control 4Hz 09.09.24 and 4Hz 29.08.24\n",
    "\n",
    "# thresh_value = 0.05 #control 4Hz 09.10.24,, 4Hz and 2.5 11.10.24, 4Hz and 2.5Hz 18.10.24\n",
    "\n",
    "# thresh_value = 0.0777 #control 4Hz 25.09.24, 2.5Hz, 4Hz control WT\n",
    "\n",
    "o.slider_APD_detection_threshold.setValue(int(thresh_value * 10000))"
   ]
  },
  {
   "cell_type": "code",
   "execution_count": null,
   "metadata": {},
   "outputs": [],
   "source": [
    "\n",
    "# o.plot_last_generated_img(2)\n",
    "# o.preview_AP_splitted_btn.click()\n",
    "target_image = viewer.layers[-1]\n",
    "# image_stack = target_image.data\n",
    "for value in [90]:\n",
    "# for value in [90]:\n",
    "    viewer.layers.selection.active = target_image\n",
    "    o.slider_APD_map_percentage.setValue(value)\n",
    "    o.toggle_map_type.setChecked(True)\n",
    "    o.make_maps_btn.click()\n"
   ]
  },
  {
   "cell_type": "code",
   "execution_count": null,
   "metadata": {},
   "outputs": [],
   "source": [
    "o.preview_postProcessingMAP_btn.click()"
   ]
  },
  {
   "cell_type": "code",
   "execution_count": null,
   "metadata": {},
   "outputs": [],
   "source": [
    "o.InterctiveWindod_edit_map.accept_post_processing_changes_btn.click()"
   ]
  },
  {
   "cell_type": "code",
   "execution_count": null,
   "metadata": {},
   "outputs": [],
   "source": [
    "viewer.layers[-1].metadata[\"ProcessingSteps\"]"
   ]
  },
  {
   "cell_type": "markdown",
   "metadata": {},
   "source": [
    "## save maps"
   ]
  },
  {
   "cell_type": "code",
   "execution_count": null,
   "metadata": {},
   "outputs": [],
   "source": [
    "results_folder_path"
   ]
  },
  {
   "cell_type": "code",
   "execution_count": null,
   "metadata": {},
   "outputs": [],
   "source": [
    "#  Here we export last 3 images\n",
    "o.save_img_dir_box_text.setText(results_folder_path)\n",
    "# for value in [-1]:\n",
    "for value in [-1, -2]:\n",
    "    viewer.layers.selection.active = viewer.layers[value]\n",
    "    o.export_image_btn.click()"
   ]
  },
  {
   "cell_type": "code",
   "execution_count": null,
   "metadata": {},
   "outputs": [],
   "source": []
  }
 ],
 "metadata": {
  "kernelspec": {
   "display_name": "Python 3",
   "language": "python",
   "name": "python3"
  },
  "language_info": {
   "codemirror_mode": {
    "name": "ipython",
    "version": 3
   },
   "file_extension": ".py",
   "mimetype": "text/x-python",
   "name": "python",
   "nbconvert_exporter": "python",
   "pygments_lexer": "ipython3",
   "version": "3.11.9"
  }
 },
 "nbformat": 4,
 "nbformat_minor": 2
}
